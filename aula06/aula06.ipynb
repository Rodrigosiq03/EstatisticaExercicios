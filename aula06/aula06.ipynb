{
 "cells": [
  {
   "cell_type": "markdown",
   "metadata": {},
   "source": [
    "# Aula 06\n",
    "\n",
    "Separatizes são números que dividem um conjunto de dados em partes iguais (com o mesmo número de elementos). A mediana é um exemplo de separatizes.\n",
    "\n",
    "## Quartis\n",
    "\n",
    " - Três quartis são definidos para um conjunto de dados ordenados: o primeiro quartil (Q1), o segundo quartil (Q2) e o terceiro quartil (Q3). O primeiro quartil divide o conjunto de dados em quatro partes, sendo que a primeira parte contém 25% dos dados. O segundo quartil divide o conjunto de dados em duas partes, sendo que a primeira parte contém 50% dos dados. O terceiro quartil divide o conjunto de dados em quatro partes, sendo que a terceira parte contém 25% dos dados. \n",
    " - O segundo quartil sempre vai ser a mediana do conjunto de dados, o primeiro e o terceiro quartil são chamados de quartis inferiores e superiores, respectivamente e tem seu valor aproximado de 25% e 75% do conjunto de dados, respectivamente.\n",
    " - Amplitude interquartil (AIQ) é a diferença entre o terceiro e o primeiro quartil. Para identificar os outliers, há um forma que é calculando a amplitude interquartil (AIQ) e multiplicando por 1,5, o primeiro quartil é subtraído do resultado e o terceiro quartil é somado ao resultado. Os valores que estão fora desse intervalo são considerados outliers. Q1 - 1,5 * AIQ < x < Q3 + 1,5 * AIQ\n",
    "\n",
    "\n"
   ]
  }
 ],
 "metadata": {
  "language_info": {
   "name": "python"
  },
  "orig_nbformat": 4
 },
 "nbformat": 4,
 "nbformat_minor": 2
}
