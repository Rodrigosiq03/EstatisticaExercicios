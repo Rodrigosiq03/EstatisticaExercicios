{
 "cells": [
  {
   "cell_type": "markdown",
   "metadata": {},
   "source": [
    "# **Aula 4**\n",
    "---\n",
    "\n",
    "## **Medidas de tendência central**\n",
    "\n",
    "Uma **medida de tendência central** é um valor que representa uma **observação típica** ou central de um conjunto de dados.\n",
    "\n",
    "**Média**: A média é a soma dos valores dividida pelo número de valores.\n",
    "    \n",
    "- **Média populacional** = μ = Σx / n\n",
    "\n",
    "- **Média amostral** = x̅ = Σx / n\n",
    "\n",
    "**<font color=\"red\">Atenção:</font>** A média pode ser muito afetada por outliers, ou seja, valores muito discrepantes do restante dos dados. Por isso, é importante analisar os dados antes de calcular a média.\n",
    "\n",
    "**Mediana**: A mediana é o valor que divide um conjunto de dados em duas partes iguais. Para encontrar a mediana, os valores devem ser colocados em ordem crescente ou decrescente. Se o número de valores for ímpar, a mediana é o valor central. Se o número de valores for par, a mediana é a média dos dois valores centrais.\n",
    "\n",
    "**Moda**: A moda é o valor que ocorre com maior frequência em um conjunto de dados. Se todos os valores ocorrem com a mesma frequência, não há moda.\n",
    "\n",
    "**As conclusões que são tomadas com base em um conjunto de dados que contém outliers podem ser falhas.**\n",
    "\n",
    "*Vamos exemplificar tudo isso com um conjunto de dados de idades de alunos de uma turma:*\n"
   ]
  },
  {
   "cell_type": "code",
   "execution_count": 40,
   "metadata": {},
   "outputs": [
    {
     "name": "stdout",
     "output_type": "stream",
     "text": [
      "A média da distribuição de idades é 23.75.\n",
      "A mediana da distribuição de idades é 21.5.\n",
      "A moda da distribuição de idades é 20.\n"
     ]
    }
   ],
   "source": [
    "idades = pd.Series([20, 20, 20, 20, 20, 20, 21,\n",
    "                  21, 21, 21, 22, 22, 22, 23,\n",
    "                  23, 23, 23, 24, 24, 65]) # cria uma série com os valores das idades\n",
    "\n",
    "media = idades.mean() # calcula a média\n",
    "print(f'A média da distribuição de idades é {media}.')\n",
    "mediana = idades.median() # calcula a mediana\n",
    "print(f'A mediana da distribuição de idades é {mediana}.')\n",
    "moda = list(idades.mode()) # calcula a moda (o método mode retorna uma série, por isso é necessário converter para lista)\n",
    "print(f'A moda da distribuição de idades é {moda[0]}.')"
   ]
  },
  {
   "cell_type": "markdown",
   "metadata": {},
   "source": [
    "\n",
    "A média considera todos os valores, então é muito afetada por outliers. Por outro lado, a mediana e a moda são menos afetadas por outliers, mesmo levando em consideração todos os valores.\n",
    "\n",
    "- **Média ponderada**: A média ponderada é uma média em que cada valor é multiplicado por um peso. A média ponderada é calculada dividindo a soma dos valores ponderados pelo número de valores. **(x̅ = Σ(x * w) / n)**\n",
    "\n",
    "Por exemplo:"
   ]
  },
  {
   "cell_type": "code",
   "execution_count": 18,
   "metadata": {},
   "outputs": [
    {
     "data": {
      "text/html": [
       "<div>\n",
       "<style scoped>\n",
       "    .dataframe tbody tr th:only-of-type {\n",
       "        vertical-align: middle;\n",
       "    }\n",
       "\n",
       "    .dataframe tbody tr th {\n",
       "        vertical-align: top;\n",
       "    }\n",
       "\n",
       "    .dataframe thead th {\n",
       "        text-align: right;\n",
       "    }\n",
       "</style>\n",
       "<table border=\"1\" class=\"dataframe\">\n",
       "  <thead>\n",
       "    <tr style=\"text-align: right;\">\n",
       "      <th></th>\n",
       "      <th>Notas</th>\n",
       "      <th>Pesos</th>\n",
       "    </tr>\n",
       "  </thead>\n",
       "  <tbody>\n",
       "    <tr>\n",
       "      <th>Média do teste</th>\n",
       "      <td>86</td>\n",
       "      <td>0.50</td>\n",
       "    </tr>\n",
       "    <tr>\n",
       "      <th>Prova bimestral</th>\n",
       "      <td>96</td>\n",
       "      <td>0.15</td>\n",
       "    </tr>\n",
       "    <tr>\n",
       "      <th>Prova final</th>\n",
       "      <td>82</td>\n",
       "      <td>0.20</td>\n",
       "    </tr>\n",
       "    <tr>\n",
       "      <th>Informática</th>\n",
       "      <td>98</td>\n",
       "      <td>0.10</td>\n",
       "    </tr>\n",
       "    <tr>\n",
       "      <th>Dever de casa</th>\n",
       "      <td>100</td>\n",
       "      <td>0.05</td>\n",
       "    </tr>\n",
       "  </tbody>\n",
       "</table>\n",
       "</div>"
      ],
      "text/plain": [
       "                 Notas  Pesos\n",
       "Média do teste      86   0.50\n",
       "Prova bimestral     96   0.15\n",
       "Prova final         82   0.20\n",
       "Informática         98   0.10\n",
       "Dever de casa      100   0.05"
      ]
     },
     "metadata": {},
     "output_type": "display_data"
    }
   ],
   "source": [
    "notas = pd.DataFrame({'Notas':[86, 96, 82, 98, 100],\n",
    "                      'Pesos':[0.5, 0.15, 0.2, 0.1, 0.05]}) # cria um DataFrame com as notas e os pesos\n",
    "notas.index = ['Média do teste', 'Prova bimestral', 'Prova final',\n",
    "               'Informática', 'Dever de casa'] # define os índices do DataFrame\n",
    "display(notas)\n"
   ]
  },
  {
   "cell_type": "markdown",
   "metadata": {},
   "source": [
    "A média ponderada vai ser a soma de cada nota multiplicada pelo peso dividido pela soma dos pesos."
   ]
  },
  {
   "cell_type": "code",
   "execution_count": 19,
   "metadata": {},
   "outputs": [
    {
     "name": "stdout",
     "output_type": "stream",
     "text": [
      "A média final é 88.6.\n"
     ]
    }
   ],
   "source": [
    "media_ponderada = sum(notas['Notas'] * notas['Pesos']) / notas['Pesos'].sum()\n",
    "print(f'A média final é {media_ponderada}.')"
   ]
  },
  {
   "cell_type": "markdown",
   "metadata": {},
   "source": [
    "Também é possível calcular usando o numpy, como no exemplo abaixo:"
   ]
  },
  {
   "cell_type": "code",
   "execution_count": 20,
   "metadata": {},
   "outputs": [
    {
     "name": "stdout",
     "output_type": "stream",
     "text": [
      "A média final é 88.6.\n"
     ]
    }
   ],
   "source": [
    "media_ponderada = np.average(a=notas['Notas'], weights=notas['Pesos']) # a representa os valores e weights os pesos\n",
    "print(f'A média final é {media_ponderada}.')"
   ]
  },
  {
   "cell_type": "markdown",
   "metadata": {},
   "source": [
    "## **Média de uma distribuição de frequência**\n",
    "\n",
    "A média de uma distribuição de frequência é calculada multiplicando cada valor pela sua frequência e dividindo o resultado pela soma das frequências → **(x̅ = Σ(x * f) / Σf)**, em que x são os pontos médios e f é a frequência.\n",
    "\n",
    "Para exemplificar isso, vamos usar os valores de preços de GPS usados anteriormente:"
   ]
  },
  {
   "cell_type": "code",
   "execution_count": 47,
   "metadata": {},
   "outputs": [
    {
     "data": {
      "text/html": [
       "<div>\n",
       "<style scoped>\n",
       "    .dataframe tbody tr th:only-of-type {\n",
       "        vertical-align: middle;\n",
       "    }\n",
       "\n",
       "    .dataframe tbody tr th {\n",
       "        vertical-align: top;\n",
       "    }\n",
       "\n",
       "    .dataframe thead th {\n",
       "        text-align: right;\n",
       "    }\n",
       "</style>\n",
       "<table border=\"1\" class=\"dataframe\">\n",
       "  <thead>\n",
       "    <tr style=\"text-align: right;\">\n",
       "      <th></th>\n",
       "      <th>Classe</th>\n",
       "      <th>Frequência</th>\n",
       "      <th>Pontos médios</th>\n",
       "      <th>Frequência relativa</th>\n",
       "      <th>Frequência acumulada</th>\n",
       "    </tr>\n",
       "  </thead>\n",
       "  <tbody>\n",
       "    <tr>\n",
       "      <th>0</th>\n",
       "      <td>(65, 105]</td>\n",
       "      <td>6</td>\n",
       "      <td>85.0</td>\n",
       "      <td>0.200000</td>\n",
       "      <td>6</td>\n",
       "    </tr>\n",
       "    <tr>\n",
       "      <th>1</th>\n",
       "      <td>(105, 145]</td>\n",
       "      <td>9</td>\n",
       "      <td>125.0</td>\n",
       "      <td>0.300000</td>\n",
       "      <td>15</td>\n",
       "    </tr>\n",
       "    <tr>\n",
       "      <th>2</th>\n",
       "      <td>(145, 185]</td>\n",
       "      <td>6</td>\n",
       "      <td>165.0</td>\n",
       "      <td>0.200000</td>\n",
       "      <td>21</td>\n",
       "    </tr>\n",
       "    <tr>\n",
       "      <th>3</th>\n",
       "      <td>(185, 225]</td>\n",
       "      <td>4</td>\n",
       "      <td>205.0</td>\n",
       "      <td>0.133333</td>\n",
       "      <td>25</td>\n",
       "    </tr>\n",
       "    <tr>\n",
       "      <th>4</th>\n",
       "      <td>(225, 265]</td>\n",
       "      <td>2</td>\n",
       "      <td>245.0</td>\n",
       "      <td>0.066667</td>\n",
       "      <td>27</td>\n",
       "    </tr>\n",
       "    <tr>\n",
       "      <th>5</th>\n",
       "      <td>(265, 305]</td>\n",
       "      <td>1</td>\n",
       "      <td>285.0</td>\n",
       "      <td>0.033333</td>\n",
       "      <td>28</td>\n",
       "    </tr>\n",
       "    <tr>\n",
       "      <th>6</th>\n",
       "      <td>(305, 345]</td>\n",
       "      <td>2</td>\n",
       "      <td>325.0</td>\n",
       "      <td>0.066667</td>\n",
       "      <td>30</td>\n",
       "    </tr>\n",
       "  </tbody>\n",
       "</table>\n",
       "</div>"
      ],
      "text/plain": [
       "       Classe  Frequência  Pontos médios  Frequência relativa  \\\n",
       "0   (65, 105]           6           85.0             0.200000   \n",
       "1  (105, 145]           9          125.0             0.300000   \n",
       "2  (145, 185]           6          165.0             0.200000   \n",
       "3  (185, 225]           4          205.0             0.133333   \n",
       "4  (225, 265]           2          245.0             0.066667   \n",
       "5  (265, 305]           1          285.0             0.033333   \n",
       "6  (305, 345]           2          325.0             0.066667   \n",
       "\n",
       "   Frequência acumulada  \n",
       "0                     6  \n",
       "1                    15  \n",
       "2                    21  \n",
       "3                    25  \n",
       "4                    27  \n",
       "5                    28  \n",
       "6                    30  "
      ]
     },
     "metadata": {},
     "output_type": "display_data"
    },
    {
     "name": "stdout",
     "output_type": "stream",
     "text": [
      "O preço médio de um navegador GPS é de US$162.33.\n"
     ]
    }
   ],
   "source": [
    "display(nova_dist_freq)\n",
    "preco = (nova_dist_freq['Frequência']*nova_dist_freq['Pontos médios']).sum()/observacoes # pega o produto entre a frequência e os pontos médios e divide pelo total de observações\n",
    "print(f'O preço médio de um navegador GPS é de US${preco:.2f}.')"
   ]
  },
  {
   "cell_type": "markdown",
   "metadata": {},
   "source": [
    "## **Formas das distribuições**\n",
    "\n",
    "A **forma** de uma distribuição de frequência é a forma que ela apresenta. Existem três formas principais de distribuição de frequência: **simétrica, assimétrica à direita e assimétrica à esquerda**.\n",
    "\n",
    "- Uma distribuição de frequência é **simétrica** quando os valores são distribuídos igualmente em ambos os lados do ponto médio. (média = mediana = moda)\n",
    "\n",
    "    <img src=\"https://i.imgur.com/1hmbDLf.png\" height=300 width=300>\n",
    "\n",
    "- Uma distribuição de frequência é **assimétrica à direita** quando a maioria dos valores está localizada à esquerda do ponto médio. (média > mediana > moda)\n",
    "\n",
    "    <img src=\"https://i.imgur.com/UrMd2yq.png\" height=300 width=300>\n",
    "\n",
    "- Uma distribuição de frequência é **assimétrica à esquerda** quando a maioria dos valores está localizada à direita do ponto médio. (média < mediana < moda)\n",
    "\n",
    "    <img src=\"https://i.imgur.com/PFCeFkx.png\" height=300 width=300> "
   ]
  }
 ],
 "metadata": {
  "kernelspec": {
   "display_name": "Python 3.9.13 64-bit (microsoft store)",
   "language": "python",
   "name": "python3"
  },
  "language_info": {
   "codemirror_mode": {
    "name": "ipython",
    "version": 3
   },
   "file_extension": ".py",
   "mimetype": "text/x-python",
   "name": "python",
   "nbconvert_exporter": "python",
   "pygments_lexer": "ipython3",
   "version": "3.9.13"
  },
  "orig_nbformat": 4,
  "vscode": {
   "interpreter": {
    "hash": "2409c8f59207a258aca3c1a1a678234dae74af7fa03836267637fb9eb86e1b05"
   }
  }
 },
 "nbformat": 4,
 "nbformat_minor": 2
}
