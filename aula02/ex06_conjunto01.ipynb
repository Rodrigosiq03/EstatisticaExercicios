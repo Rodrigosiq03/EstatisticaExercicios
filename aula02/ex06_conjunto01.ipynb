{
 "cells": [
  {
   "cell_type": "code",
   "execution_count": 22,
   "metadata": {},
   "outputs": [
    {
     "name": "stdout",
     "output_type": "stream",
     "text": [
      "0     2114\n",
      "1     2468\n",
      "2     7119\n",
      "3     1876\n",
      "4     4105\n",
      "5     3183\n",
      "6     1932\n",
      "7     1355\n",
      "8     4278\n",
      "9     1030\n",
      "10    2000\n",
      "11    1077\n",
      "12    5835\n",
      "13    1512\n",
      "14    1697\n",
      "15    2478\n",
      "16    3981\n",
      "17    1643\n",
      "18    1858\n",
      "19    1500\n",
      "20    4608\n",
      "21    1000\n",
      "dtype: int64\n"
     ]
    }
   ],
   "source": [
    "import pandas as pd\n",
    "data = pd.Series([2114, 2468, 7119, 1876, 4105, 3183,\n",
    "                  1932, 1355, 4278, 1030, 2000, 1077,\n",
    "                  5835, 1512, 1697, 2478, 3981, 1643,\n",
    "                  1858, 1500, 4608, 1000])\n",
    "print(data)\n",
    "\n",
    "v_max = data.max()\n",
    "v_min = data.min()\n",
    "n_classes = 6"
   ]
  },
  {
   "cell_type": "code",
   "execution_count": 23,
   "metadata": {},
   "outputs": [
    {
     "name": "stdout",
     "output_type": "stream",
     "text": [
      "(993.88, 2019.833]      12\n",
      "(2019.833, 3039.667]     3\n",
      "(3039.667, 4059.5]       2\n",
      "(4059.5, 5079.333]       3\n",
      "(5079.333, 6099.167]     1\n",
      "(6099.167, 7119.0]       1\n",
      "dtype: int64\n"
     ]
    }
   ],
   "source": [
    "distribuicao_de_freq = data.value_counts(bins=n_classes).sort_index()\n",
    "print(distribuicao_de_freq)"
   ]
  },
  {
   "cell_type": "code",
   "execution_count": 24,
   "metadata": {},
   "outputs": [
    {
     "name": "stdout",
     "output_type": "stream",
     "text": [
      "IntervalIndex([(1000, 2020], (2020, 3040], (3040, 4060], (4060, 5080], (5080, 6100], (6100, 7120]], dtype='interval[int64, right]')\n"
     ]
    },
    {
     "data": {
      "text/html": [
       "<div>\n",
       "<style scoped>\n",
       "    .dataframe tbody tr th:only-of-type {\n",
       "        vertical-align: middle;\n",
       "    }\n",
       "\n",
       "    .dataframe tbody tr th {\n",
       "        vertical-align: top;\n",
       "    }\n",
       "\n",
       "    .dataframe thead th {\n",
       "        text-align: right;\n",
       "    }\n",
       "</style>\n",
       "<table border=\"1\" class=\"dataframe\">\n",
       "  <thead>\n",
       "    <tr style=\"text-align: right;\">\n",
       "      <th></th>\n",
       "      <th>Classe</th>\n",
       "      <th>Freq</th>\n",
       "    </tr>\n",
       "  </thead>\n",
       "  <tbody>\n",
       "    <tr>\n",
       "      <th>0</th>\n",
       "      <td>(1000, 2020]</td>\n",
       "      <td>12</td>\n",
       "    </tr>\n",
       "    <tr>\n",
       "      <th>1</th>\n",
       "      <td>(2020, 3040]</td>\n",
       "      <td>3</td>\n",
       "    </tr>\n",
       "    <tr>\n",
       "      <th>2</th>\n",
       "      <td>(3040, 4060]</td>\n",
       "      <td>2</td>\n",
       "    </tr>\n",
       "    <tr>\n",
       "      <th>3</th>\n",
       "      <td>(4060, 5080]</td>\n",
       "      <td>3</td>\n",
       "    </tr>\n",
       "    <tr>\n",
       "      <th>4</th>\n",
       "      <td>(5080, 6100]</td>\n",
       "      <td>1</td>\n",
       "    </tr>\n",
       "    <tr>\n",
       "      <th>5</th>\n",
       "      <td>(6100, 7120]</td>\n",
       "      <td>1</td>\n",
       "    </tr>\n",
       "  </tbody>\n",
       "</table>\n",
       "</div>"
      ],
      "text/plain": [
       "         Classe  Freq\n",
       "0  (1000, 2020]    12\n",
       "1  (2020, 3040]     3\n",
       "2  (3040, 4060]     2\n",
       "3  (4060, 5080]     3\n",
       "4  (5080, 6100]     1\n",
       "5  (6100, 7120]     1"
      ]
     },
     "metadata": {},
     "output_type": "display_data"
    }
   ],
   "source": [
    "from math import ceil\n",
    "nova_dist_freq = pd.DataFrame(distribuicao_de_freq)\n",
    "nova_dist_freq = nova_dist_freq.reset_index()\n",
    "nova_dist_freq.columns = ['Classe', 'Freq']\n",
    "\n",
    "amplitude = ceil((v_max - v_min) / n_classes)\n",
    "classes = pd.interval_range(start=v_min, end=v_max+amplitude, freq=amplitude)\n",
    "print(classes)\n",
    "\n",
    "nova_dist_freq['Classe'] = classes\n",
    "display(nova_dist_freq)"
   ]
  },
  {
   "cell_type": "code",
   "execution_count": 25,
   "metadata": {},
   "outputs": [
    {
     "name": "stdout",
     "output_type": "stream",
     "text": [
      "[1510.0, 2530.0, 3550.0, 4570.0, 5590.0, 6610.0]\n"
     ]
    },
    {
     "data": {
      "text/html": [
       "<div>\n",
       "<style scoped>\n",
       "    .dataframe tbody tr th:only-of-type {\n",
       "        vertical-align: middle;\n",
       "    }\n",
       "\n",
       "    .dataframe tbody tr th {\n",
       "        vertical-align: top;\n",
       "    }\n",
       "\n",
       "    .dataframe thead th {\n",
       "        text-align: right;\n",
       "    }\n",
       "</style>\n",
       "<table border=\"1\" class=\"dataframe\">\n",
       "  <thead>\n",
       "    <tr style=\"text-align: right;\">\n",
       "      <th></th>\n",
       "      <th>Classe</th>\n",
       "      <th>Freq</th>\n",
       "      <th>Pontos medios</th>\n",
       "      <th>Freq relativa</th>\n",
       "      <th>Freq acumulada</th>\n",
       "    </tr>\n",
       "  </thead>\n",
       "  <tbody>\n",
       "    <tr>\n",
       "      <th>0</th>\n",
       "      <td>(1000, 2020]</td>\n",
       "      <td>12</td>\n",
       "      <td>1510.0</td>\n",
       "      <td>0.545455</td>\n",
       "      <td>12</td>\n",
       "    </tr>\n",
       "    <tr>\n",
       "      <th>1</th>\n",
       "      <td>(2020, 3040]</td>\n",
       "      <td>3</td>\n",
       "      <td>2530.0</td>\n",
       "      <td>0.136364</td>\n",
       "      <td>15</td>\n",
       "    </tr>\n",
       "    <tr>\n",
       "      <th>2</th>\n",
       "      <td>(3040, 4060]</td>\n",
       "      <td>2</td>\n",
       "      <td>3550.0</td>\n",
       "      <td>0.090909</td>\n",
       "      <td>17</td>\n",
       "    </tr>\n",
       "    <tr>\n",
       "      <th>3</th>\n",
       "      <td>(4060, 5080]</td>\n",
       "      <td>3</td>\n",
       "      <td>4570.0</td>\n",
       "      <td>0.136364</td>\n",
       "      <td>20</td>\n",
       "    </tr>\n",
       "    <tr>\n",
       "      <th>4</th>\n",
       "      <td>(5080, 6100]</td>\n",
       "      <td>1</td>\n",
       "      <td>5590.0</td>\n",
       "      <td>0.045455</td>\n",
       "      <td>21</td>\n",
       "    </tr>\n",
       "    <tr>\n",
       "      <th>5</th>\n",
       "      <td>(6100, 7120]</td>\n",
       "      <td>1</td>\n",
       "      <td>6610.0</td>\n",
       "      <td>0.045455</td>\n",
       "      <td>22</td>\n",
       "    </tr>\n",
       "  </tbody>\n",
       "</table>\n",
       "</div>"
      ],
      "text/plain": [
       "         Classe  Freq  Pontos medios  Freq relativa  Freq acumulada\n",
       "0  (1000, 2020]    12         1510.0       0.545455              12\n",
       "1  (2020, 3040]     3         2530.0       0.136364              15\n",
       "2  (3040, 4060]     2         3550.0       0.090909              17\n",
       "3  (4060, 5080]     3         4570.0       0.136364              20\n",
       "4  (5080, 6100]     1         5590.0       0.045455              21\n",
       "5  (6100, 7120]     1         6610.0       0.045455              22"
      ]
     },
     "metadata": {},
     "output_type": "display_data"
    }
   ],
   "source": [
    "pts_medios = [classe.mid for classe in classes]\n",
    "print(pts_medios)\n",
    "\n",
    "nova_dist_freq['Pontos medios'] = pts_medios\n",
    "\n",
    "obs = len(data)\n",
    "nova_dist_freq['Freq relativa'] = nova_dist_freq['Freq'] / obs\n",
    "nova_dist_freq['Freq acumulada'] = nova_dist_freq['Freq'].cumsum()\n",
    "\n",
    "\n",
    "display(nova_dist_freq)"
   ]
  },
  {
   "cell_type": "code",
   "execution_count": 26,
   "metadata": {},
   "outputs": [
    {
     "data": {
      "image/png": "[encoded data removed]",
      "text/plain": [
       "<Figure size 432x288 with 1 Axes>"
      ]
     },
     "metadata": {
      "needs_background": "light"
     },
     "output_type": "display_data"
    }
   ],
   "source": [
    "histograma = data.hist(bins=[classe.left for classe in classes] +\n",
    "                       [nova_dist_freq['Classe'][n_classes - 1].right],\n",
    "                       color = 'red', edgecolor = 'black', grid = False)\n",
    "\n",
    "histograma.set(xlabel = 'Vendas em Julho[U$]',\n",
    "               ylabel = 'Frequencia\\nNúmero dos Representantes',\n",
    "               title = 'Distribuição de frequencias das vendas de julho dos representantes',\n",
    "               xticks = nova_dist_freq['Pontos medios'])\n",
    "\n",
    "barras = histograma.patches\n",
    "freqs = nova_dist_freq['Freq']\n",
    "for barra, freq in zip(barras, freqs):\n",
    "  altura = barra.get_height()\n",
    "  histograma.text(barra.get_x() + barra.get_width() / 2, altura,\n",
    "                  freq, ha = 'center', va = 'bottom')"
   ]
  },
  {
   "cell_type": "code",
   "execution_count": 27,
   "metadata": {},
   "outputs": [
    {
     "data": {
      "image/png": "[encoded data removed]",
      "text/plain": [
       "<Figure size 432x288 with 1 Axes>"
      ]
     },
     "metadata": {
      "needs_background": "light"
     },
     "output_type": "display_data"
    }
   ],
   "source": [
    "histograma = data.hist(bins=[classe.left for classe in classes] +\n",
    "                       [nova_dist_freq['Classe'][n_classes - 1].right],\n",
    "                       color = 'purple', edgecolor = 'black', grid = False)\n",
    "\n",
    "histograma.set(xlabel = 'Vendas em Julho[U$]',\n",
    "               ylabel = 'Frequencia\\nNúmero dos Representantes',\n",
    "               title = 'Distribuição de frequencias das vendas de julho dos representantes',\n",
    "               xticks = nova_dist_freq['Pontos medios'])\n",
    "\n",
    "barras = histograma.patches\n",
    "freqs = nova_dist_freq['Freq relativa']\n",
    "for barra, freq in zip(barras, freqs):\n",
    "  altura = barra.get_height()\n",
    "  histograma.text(barra.get_x() + barra.get_width() / 2, altura,\n",
    "                  freq, ha = 'center', va = 'bottom')"
   ]
  },
  {
   "cell_type": "code",
   "execution_count": 29,
   "metadata": {},
   "outputs": [
    {
     "data": {
      "image/png": "[encoded data removed]",
      "text/plain": [
       "<Figure size 432x288 with 1 Axes>"
      ]
     },
     "metadata": {
      "needs_background": "light"
     },
     "output_type": "display_data"
    }
   ],
   "source": [
    "import matplotlib.pyplot as plt\n",
    "\n",
    "fic_left = [pts_medios[0] - amplitude]\n",
    "fic_right = [pts_medios[-1] + amplitude]\n",
    "\n",
    "x_data = fic_left + pts_medios + fic_right\n",
    "y_data = [0] + list(nova_dist_freq['Freq']) + [0]\n",
    "\n",
    "plt.plot(x_data, y_data, 'ro-')\n",
    "plt.xlabel('Vendas em Julho[U$]')\n",
    "plt.ylabel('Frequência - Número dos Representantes')\n",
    "plt.title('Distribuição de frequências das vendas de julho dos representantes')\n",
    "plt.xticks(x_data)\n",
    "plt.yticks(range(0, nova_dist_freq['Freq'].max() + 2, 2))\n",
    "plt.grid()"
   ]
  }
 ],
 "metadata": {
  "kernelspec": {
   "display_name": "Python 3.9.13 64-bit (windows store)",
   "language": "python",
   "name": "python3"
  },
  "language_info": {
   "codemirror_mode": {
    "name": "ipython",
    "version": 3
   },
   "file_extension": ".py",
   "mimetype": "text/x-python",
   "name": "python",
   "nbconvert_exporter": "python",
   "pygments_lexer": "ipython3",
   "version": "3.9.13"
  },
  "orig_nbformat": 4,
  "vscode": {
   "interpreter": {
    "hash": "2409c8f59207a258aca3c1a1a678234dae74af7fa03836267637fb9eb86e1b05"
   }
  }
 },
 "nbformat": 4,
 "nbformat_minor": 2
}
