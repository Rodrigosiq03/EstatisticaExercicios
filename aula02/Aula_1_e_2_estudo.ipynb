{
  "cells": [
    {
      "cell_type": "markdown",
      "metadata": {
        "id": "JrQp4NGIikV6"
      },
      "source": [
        "# **Aula 1**\n",
        "---\n",
        "\n",
        "\n"
      ]
    },
    {
      "cell_type": "markdown",
      "metadata": {
        "id": "x2pXoTEKnWCS"
      },
      "source": [
        "## **Termos e definições**\n",
        "\n",
        "Informações coletadas por meio de observações, contagens, medidas e respostas são chamadas de **dados**.\n",
        "\n",
        "**Estatística** é a ciência que trata da coleta, organização / análise e interpretação desses dados para tomadas de decisão.\n",
        "\n",
        "-\n",
        "\n",
        "Uma **população** é a coleção de *todas* as observações, contagens, medidas e respostas que são de interesse.\n",
        "\n",
        "Uma **amostra** é um subconjunto ou parte de uma população.\n",
        "Uma amostra deve ser representativa de uma população de modo que seus dados possam ser usados para tirar conclusões sobre aquela população.\n",
        "\n",
        "<img src=\"https://i.imgur.com/NDfHdWB.png\">\n",
        "\n",
        "-\n",
        "\n",
        "Um **parâmetro** é descrição numérica de uma característica *populacional*.\n",
        "\n",
        "Uma **estatística** é descrição numérica de uma característica *amostral*."
      ]
    },
    {
      "cell_type": "markdown",
      "metadata": {
        "id": "s5TV5LIPnahP"
      },
      "source": [
        "## **Estatística descritiva e inferencial**\n",
        "\n",
        "A **estatística descritiva**, como o próprio nome já diz, se preocupa em descrever os dados. \n",
        "\n",
        "A **estatística inferencial**, fundamentada na teoria das probabilidades, se preocupa com a análise destes dados e sua interpretação.\n",
        "\n",
        "<img src=\"https://i.imgur.com/iUR0YwH.png\">"
      ]
    },
    {
      "cell_type": "markdown",
      "metadata": {},
      "source": [
        "## **Tipos de dados**\n",
        "\n",
        "**Dados qualitativos** consistem em atributos, rótulos, ou entradas não numéricas.\n",
        "**Dados quantitativos** consistem em medidas numéricas ou contagens.\n",
        "\n"
      ]
    },
    {
      "cell_type": "markdown",
      "metadata": {},
      "source": [
        "## **Níveis de mensuração**\n",
        "\n",
        "Dados no nível **nominal** de mensuração são simplesmente \"nomeados\" ou rotulados, sem nenhuma ordem específica.\n",
        "\n",
        "<img src=\"https://i.imgur.com/RwrLQfD.png\">\n",
        "\n",
        "Dados no nível **ordinal** de mensuração podem ser postos em ordem ou classificados, mas as diferenças entre as entradas não tem sentido matemático.\n",
        "\n",
        "<img src=\"https://i.imgur.com/N5OW2Au.png\">\n",
        "\n",
        "Dados no nível **intervalar** são quantitativos e podem ser ordenados e usados em operações matemáticas. Porém, um zero não representa \"nenhum\", apenas uma posição em uma escala.\n",
        "\n",
        "<img src=\"https://i.imgur.com/NRRfC2j.png\">\n",
        "\n",
        "Dados no nível **de razão** são iguais àqueles no nível intervalar, mas neste nível, o zero representa um zero natural.\n",
        "\n",
        "<img src=\"https://i.imgur.com/G6W798L.png\">"
      ]
    },
    {
      "cell_type": "markdown",
      "metadata": {},
      "source": [
        "## **Quadro resumo:**\n",
        "\n",
        "<img src=\"https://i.imgur.com/Yq3YMJN.png\">\n",
        "\n",
        "---"
      ]
    },
    {
      "cell_type": "markdown",
      "metadata": {},
      "source": [
        "## **Planejamento de um estudo estatístico**\n",
        "\n",
        "**Estudo observacional**: o pesquisador observa e mede as características de interesse de parte de uma população, mas não muda as condições existentes.\n",
        "\n",
        "**Experimento**: um tratamento é aplicado em uma parte da população, chamada de grupo de tratamento. Outro grupo, o grupo de controle, não recebe tratamento. As respostas são comparadas e estudadas.\n",
        "\n",
        "<img src=\"https://i.imgur.com/nIoiVRb.png\">\n",
        "\n",
        "**Simulação**: uso de um modelo matemático ou físico para reproduzir as condições de uma situação ou processo.\n",
        "\n",
        "**Pesquisa**: investigação de uma ou mais características de uma população – mais frequentemente, as pesquisas são conduzidas com pessoas, por meio de entrevistas."
      ]
    },
    {
      "cell_type": "markdown",
      "metadata": {},
      "source": [
        "## **Planejamento experimental**\n",
        "\n",
        "**Elementos-chave**: Controle, Aleatorização e Replicação\n",
        "\n",
        "**Efeito placebo**: ocorre quando um indivíduo reage favoravelmente a um tratamento quando, na verdade, recebeu um placebo.\n",
        "\n",
        "Para evitar o efeito placebo, é feito um **experimento cego**, em que o indivíduo não sabe se está recebendo um tratamento ou um placebo. Em um aexperimento **duplo-cego**, nem o pesquisador nem os indivíduos sabem, e o pesquisador só é informado depois que todos os dados forem coletados.\n",
        "\n",
        "## Aleatorização\n",
        "\n",
        "**Aleatorização** é o processo de se designar indivíduos aleatoriamente para diferentes grupos de tratamento.\n",
        "\n",
        "**Planejamento *completamente* aleatorizado:** os indivíduos são designados para diferentes grupos de tratamento por meio de seleção aleatória.\n",
        "\n",
        "**Planejamento *em blocos* aleatorizados:** o pesquisador seara os indivíduos com características similares em blocos, e, então, dentro de cada bloco, desina-os aleatoriamente para os grupos.\n",
        "\n",
        "<img src=\"https://i.imgur.com/luvMhCZ.png\">"
      ]
    },
    {
      "cell_type": "markdown",
      "metadata": {},
      "source": [
        "## **Técnicas de amostragem**\n",
        "\n",
        "Um **censo** é uma contagem ou medição de *toda a população*. A realização de um censo fornece informações completas, mas é frequentemente caro e difícil de realizar.\n",
        "\n",
        "Uma **amostragem** é uma contagem ou medição de *parte de uma população* e é mais comumente usada nos estudos estatísticos. Para coletar dados não viesados, um pesquisador deve assegurar que a amostra é de fato *representativa da população*.\n",
        "\n",
        "**Amostragem aleatória**: todos os elementos de uma população têm chances iguais de serem selecionados.\n",
        "\n",
        "**Amostragem aleatória simples**: cada amostra possível de mesmo tamanho tem a mesma chance de ser selecionada.\n",
        "\n",
        "**Amostragem estratificada**: Elementos de uma população são divididos em dois ou mais subconjuntos, chamados de *estratos*, que compartilham uma característica similar como idade, sexo, grupo étnico ou até mesmo preferência política. Uma amostra é então selecionada aleatoriamente de cada um dos estratos. O uso de uma amostra estratificada assegura que cada segmento da população está representado.\n",
        "\n",
        "<img src=\"https://i.imgur.com/Chx5Vh2.png\">\n",
        "\n",
        "**Amostragem por conglomerados**: Utilizada quando a população recai em *subgrupos que ocorrem naturalmente*, cada um tendo características similares. Dividir a população em grupos, chamados conglomerados, e selecionar todos os elementos em um ou mais (mas não em todos) conglomerados sorteados. Ao usar esta forma de amostragem, é preciso assegurar que todos os conglomerados tenham características similares.\n",
        "\n",
        "<img src=\"https://i.imgur.com/d4Lw7EM.png\">\n",
        "\n",
        "**Amostragem por conveniência <font color=\"red\">*(EVITAR!!!)*</font>**: consiste somente em membros da população que são fáceis de contatar."
      ]
    },
    {
      "cell_type": "markdown",
      "metadata": {},
      "source": [
        "# **Aula 2**\n",
        "---\n",
        "\n",
        "\n"
      ]
    },
    {
      "cell_type": "markdown",
      "metadata": {},
      "source": [
        "## **Distribuição de frequência**\n",
        "\n",
        "Quando um conjunto de dados é extenso, pode ser difícil de observar padrões. É conveniente agrupar as informações em intervalos chamados **classes**, formando uma **distribuição de frequência**.\n",
        "\n",
        "Uma **distribuição de frequência** é uma tabela que mostra **classes** ou **intervalos** de dados e a **frequência ⨍** com que cada classe ocorre.\n",
        "\n",
        "O número de classes situa-se usualmente entre 5 e 20. O número de classes deve ser escolhido de forma que cada classe tenha um número de elementos suficientemente grande para que a distribuição seja representativa.\n",
        "\n",
        "\n",
        "<img src=\"https://i.imgur.com/Bjm1uFg.png\">\n",
        "\n",
        "\n"
      ]
    },
    {
      "cell_type": "markdown",
      "metadata": {},
      "source": [
        "## **Construindo uma distribuição de frequência com base em um conjunto de dados**\n",
        "\n",
        "O conjunto de dados a seguir lista os preços (em dólares) de 30 aparelhos GPS portáteis. Construa uma distribuição de frequência com 7 classes.\n",
        "\n",
        "**| 128 | 100 | 180 | 150 | 200 | 90 | 340 | 105 | 85 | 270 | 200 | 65 | 230 | 150 | 150 | 120 | 130 | 80 | 230 | 200 | 110 | 126 | 170 | 132 | 140 | 112 | 90 | 340 | 170 | 190 |**"
      ]
    },
    {
      "cell_type": "code",
      "execution_count": 1,
      "metadata": {},
      "outputs": [],
      "source": [
        "import pandas as pd\n",
        "# Conjunto de dados\n",
        "data = pd.Series([128, 100, 180, 150, 200, 90, 340, 105, 85, 270,\n",
        "                  200, 65, 230, 150, 150, 120, 130, 80, 230, 200,\n",
        "                  110, 126, 170, 132, 140, 112, 90, 340, 170, 190])"
      ]
    },
    {
      "cell_type": "markdown",
      "metadata": {},
      "source": [
        "São 7 classes (neste caso, informação fornecida pelo problema)."
      ]
    },
    {
      "cell_type": "code",
      "execution_count": 2,
      "metadata": {},
      "outputs": [],
      "source": [
        "n_classes = 7"
      ]
    },
    {
      "cell_type": "code",
      "execution_count": 3,
      "metadata": {},
      "outputs": [
        {
          "name": "stdout",
          "output_type": "stream",
          "text": [
            "O valor máximo é 340, o valor mínimo é 65 e a amplitude é 40\n"
          ]
        }
      ],
      "source": [
        "from math import ceil\n",
        "\n",
        "v_max = data.max()\n",
        "v_min = data.min()\n",
        "amplitude = ceil((v_max - v_min) / n_classes) # ceil arredonda o valor para cima (ex: 1.1 = 2)\n",
        "print(f'O valor máximo é {v_max}, o valor mínimo é {v_min} e a amplitude é {amplitude}')"
      ]
    },
    {
      "cell_type": "markdown",
      "metadata": {},
      "source": [
        "**Amplitude da distribuição**: *v_max **-** v_min* = 340 - 65 = 275\n",
        "\n",
        "**Amplitude de classe**: amp_dist / n_classes = 275 / 7 ≈ 39,29 → 40\n",
        "\n"
      ]
    },
    {
      "cell_type": "markdown",
      "metadata": {},
      "source": [
        "O método value_counts registra a frequência de ocorrência dos dados em cada classe, em que o parâmetro **bins** é o número de classes. O método sort_index ordena os índices (classes) em ordem crescente."
      ]
    },
    {
      "cell_type": "code",
      "execution_count": 4,
      "metadata": {},
      "outputs": [
        {
          "data": {
            "text/plain": [
              "(64.72399999999999, 104.286]    6\n",
              "(104.286, 143.571]              9\n",
              "(143.571, 182.857]              6\n",
              "(182.857, 222.143]              4\n",
              "(222.143, 261.429]              2\n",
              "(261.429, 300.714]              1\n",
              "(300.714, 340.0]                2\n",
              "dtype: int64"
            ]
          },
          "execution_count": 4,
          "metadata": {},
          "output_type": "execute_result"
        }
      ],
      "source": [
        "dist_freq = data.value_counts(bins=n_classes).sort_index() # value_counts conta a frequência de cada valor e bins define o número de classes \n",
        "# sort_index ordena os valores de forma crescente\n",
        "dist_freq"
      ]
    },
    {
      "cell_type": "markdown",
      "metadata": {},
      "source": [
        "Como os valores das classes estão \"quebrados\", é usado o método interval_range para criar os intervalos das classes. O método precisa de um **start**, que é o valor inicial, **end** que é o valor final, **freq** que é a amplitude de cada intervalo, e pode receber também **periods** que é o número de intervalos, **name** que é o nome da coluna, e **closed** que é o tipo de fechamento do intervalo.\n"
      ]
    },
    {
      "cell_type": "code",
      "execution_count": 5,
      "metadata": {},
      "outputs": [
        {
          "data": {
            "text/plain": [
              "IntervalIndex([(65, 105], (105, 145], (145, 185], (185, 225], (225, 265], (265, 305], (305, 345]], dtype='interval[int64, right]')"
            ]
          },
          "execution_count": 5,
          "metadata": {},
          "output_type": "execute_result"
        }
      ],
      "source": [
        "intervalos = pd.interval_range(start=v_min, end=v_max+amplitude, freq=amplitude) \n",
        "# interval_range cria um intervalo de valores com base no valor mínimo, máximo e amplitude\n",
        "# end = v_max+amplitude para incluir o último valor\n",
        "intervalos"
      ]
    },
    {
      "cell_type": "markdown",
      "metadata": {},
      "source": [
        "Como podemos ver, dessa forma a distribuição fica mais fácil de ser analisada.\n",
        "\n",
        "Agora, vamos criar um DataFrame, que é uma tabela com linhas e colunas, para facilitar a visualização da distribuição de frequência.\n"
      ]
    },
    {
      "cell_type": "code",
      "execution_count": 6,
      "metadata": {},
      "outputs": [
        {
          "data": {
            "text/html": [
              "<div>\n",
              "<style scoped>\n",
              "    .dataframe tbody tr th:only-of-type {\n",
              "        vertical-align: middle;\n",
              "    }\n",
              "\n",
              "    .dataframe tbody tr th {\n",
              "        vertical-align: top;\n",
              "    }\n",
              "\n",
              "    .dataframe thead th {\n",
              "        text-align: right;\n",
              "    }\n",
              "</style>\n",
              "<table border=\"1\" class=\"dataframe\">\n",
              "  <thead>\n",
              "    <tr style=\"text-align: right;\">\n",
              "      <th></th>\n",
              "      <th>Classe</th>\n",
              "      <th>Frequência</th>\n",
              "    </tr>\n",
              "  </thead>\n",
              "  <tbody>\n",
              "    <tr>\n",
              "      <th>0</th>\n",
              "      <td>(65, 105]</td>\n",
              "      <td>6</td>\n",
              "    </tr>\n",
              "    <tr>\n",
              "      <th>1</th>\n",
              "      <td>(105, 145]</td>\n",
              "      <td>9</td>\n",
              "    </tr>\n",
              "    <tr>\n",
              "      <th>2</th>\n",
              "      <td>(145, 185]</td>\n",
              "      <td>6</td>\n",
              "    </tr>\n",
              "    <tr>\n",
              "      <th>3</th>\n",
              "      <td>(185, 225]</td>\n",
              "      <td>4</td>\n",
              "    </tr>\n",
              "    <tr>\n",
              "      <th>4</th>\n",
              "      <td>(225, 265]</td>\n",
              "      <td>2</td>\n",
              "    </tr>\n",
              "    <tr>\n",
              "      <th>5</th>\n",
              "      <td>(265, 305]</td>\n",
              "      <td>1</td>\n",
              "    </tr>\n",
              "    <tr>\n",
              "      <th>6</th>\n",
              "      <td>(305, 345]</td>\n",
              "      <td>2</td>\n",
              "    </tr>\n",
              "  </tbody>\n",
              "</table>\n",
              "</div>"
            ],
            "text/plain": [
              "       Classe  Frequência\n",
              "0   (65, 105]           6\n",
              "1  (105, 145]           9\n",
              "2  (145, 185]           6\n",
              "3  (185, 225]           4\n",
              "4  (225, 265]           2\n",
              "5  (265, 305]           1\n",
              "6  (305, 345]           2"
            ]
          },
          "metadata": {},
          "output_type": "display_data"
        }
      ],
      "source": [
        "nova_dist_freq = pd.DataFrame(dist_freq)\n",
        "nova_dist_freq = nova_dist_freq.reset_index() # reset_index() cria uma nova coluna com os índices antigos\n",
        "nova_dist_freq.columns = ['Classe', 'Frequência'] # renomeia as colunas\n",
        "nova_dist_freq['Classe'] = intervalos\n",
        "display(nova_dist_freq)"
      ]
    },
    {
      "cell_type": "markdown",
      "metadata": {},
      "source": [
        "<img src=\"https://i.imgur.com/JZrXbYc.png\">"
      ]
    },
    {
      "cell_type": "markdown",
      "metadata": {},
      "source": [
        "É possível incluir novas colunas com características adicionais das classes que auxiliam na interpretação dos dados:\n",
        "\n",
        "**- Ponto médio**: é a média dos valores dos limites inferior e superior da classe.\n",
        "\n",
        "**- Frequência relativa**: é a frequência da classe dividida pela soma das frequências de todas as classes.\n",
        "\n",
        "**- Frequência acumulada**: é a soma das frequências das classes anteriores e da classe atual.\n",
        "\n",
        "**- Frequência relativa acumulada**: é a soma das frequências relativas das classes anteriores e da classe atual.\n",
        "\n",
        "Por exemplo, o ponto médio da segunda classe é a média entre 105 e 145, que é 125. A frequência relativa da segunda classe é 9 / 30 = 0,3. A frequência acumulada da segunda classe é a soma da frequência da primeira classe (6) e da segunda classe (9), que é 15.\n"
      ]
    },
    {
      "cell_type": "code",
      "execution_count": 7,
      "metadata": {},
      "outputs": [
        {
          "data": {
            "text/plain": [
              "[85.0, 125.0, 165.0, 205.0, 245.0, 285.0, 325.0]"
            ]
          },
          "execution_count": 7,
          "metadata": {},
          "output_type": "execute_result"
        }
      ],
      "source": [
        "pts_medios = [classe.mid for classe in intervalos] # mid retorna o ponto médio de cada classe retornada pelo for\n",
        "pts_medios"
      ]
    },
    {
      "cell_type": "code",
      "execution_count": 8,
      "metadata": {},
      "outputs": [
        {
          "data": {
            "text/html": [
              "<div>\n",
              "<style scoped>\n",
              "    .dataframe tbody tr th:only-of-type {\n",
              "        vertical-align: middle;\n",
              "    }\n",
              "\n",
              "    .dataframe tbody tr th {\n",
              "        vertical-align: top;\n",
              "    }\n",
              "\n",
              "    .dataframe thead th {\n",
              "        text-align: right;\n",
              "    }\n",
              "</style>\n",
              "<table border=\"1\" class=\"dataframe\">\n",
              "  <thead>\n",
              "    <tr style=\"text-align: right;\">\n",
              "      <th></th>\n",
              "      <th>Classe</th>\n",
              "      <th>Frequência</th>\n",
              "      <th>Pontos medios</th>\n",
              "    </tr>\n",
              "  </thead>\n",
              "  <tbody>\n",
              "    <tr>\n",
              "      <th>0</th>\n",
              "      <td>(65, 105]</td>\n",
              "      <td>6</td>\n",
              "      <td>85.0</td>\n",
              "    </tr>\n",
              "    <tr>\n",
              "      <th>1</th>\n",
              "      <td>(105, 145]</td>\n",
              "      <td>9</td>\n",
              "      <td>125.0</td>\n",
              "    </tr>\n",
              "    <tr>\n",
              "      <th>2</th>\n",
              "      <td>(145, 185]</td>\n",
              "      <td>6</td>\n",
              "      <td>165.0</td>\n",
              "    </tr>\n",
              "    <tr>\n",
              "      <th>3</th>\n",
              "      <td>(185, 225]</td>\n",
              "      <td>4</td>\n",
              "      <td>205.0</td>\n",
              "    </tr>\n",
              "    <tr>\n",
              "      <th>4</th>\n",
              "      <td>(225, 265]</td>\n",
              "      <td>2</td>\n",
              "      <td>245.0</td>\n",
              "    </tr>\n",
              "    <tr>\n",
              "      <th>5</th>\n",
              "      <td>(265, 305]</td>\n",
              "      <td>1</td>\n",
              "      <td>285.0</td>\n",
              "    </tr>\n",
              "    <tr>\n",
              "      <th>6</th>\n",
              "      <td>(305, 345]</td>\n",
              "      <td>2</td>\n",
              "      <td>325.0</td>\n",
              "    </tr>\n",
              "  </tbody>\n",
              "</table>\n",
              "</div>"
            ],
            "text/plain": [
              "       Classe  Frequência  Pontos medios\n",
              "0   (65, 105]           6           85.0\n",
              "1  (105, 145]           9          125.0\n",
              "2  (145, 185]           6          165.0\n",
              "3  (185, 225]           4          205.0\n",
              "4  (225, 265]           2          245.0\n",
              "5  (265, 305]           1          285.0\n",
              "6  (305, 345]           2          325.0"
            ]
          },
          "execution_count": 8,
          "metadata": {},
          "output_type": "execute_result"
        }
      ],
      "source": [
        "nova_dist_freq['Pontos medios'] = pts_medios # adiciona uma nova coluna com os pontos médios\n",
        "nova_dist_freq"
      ]
    },
    {
      "cell_type": "code",
      "execution_count": 9,
      "metadata": {},
      "outputs": [],
      "source": [
        "observacoes = len(data) # len retorna o tamanho do conjunto de dados, ou seja, a quantidade de observações\n",
        "\n",
        "nova_dist_freq['Frequência relativa'] = nova_dist_freq['Frequência']/observacoes # calcula a frequência relativa, dividindo o valor da frequência de cada classe pelo total de observações\n",
        "\n",
        "nova_dist_freq['Frequência acumulada'] = nova_dist_freq['Frequência'].cumsum() # cumsum retorna a soma acumulada dos valores da coluna 'Frequência'\n",
        "\n",
        "nova_dist_freq['Frequência relativa acumulada'] = nova_dist_freq['Frequência relativa'].cumsum() # cumsum retorna a soma acumulada dos valores da coluna 'Frequência relativa'\n",
        "\n"
      ]
    },
    {
      "cell_type": "markdown",
      "metadata": {},
      "source": [
        "## **Gráfico de distribuição de frequência**\n",
        "\n",
        "O gráfico de distribuição de frequência é um gráfico de barras que mostra a frequência de ocorrência de cada classe. O eixo horizontal representa as classes e o eixo vertical representa a frequência.\n",
        "\n",
        "O histograma é construído usando o método **hist** do Pandas. Diversas características do histograma, tais como as classes (parâmetro bins), cor das barras e marcações nos eixos vertical e horizontal são programáveis. Também é inserida a frequência observada no topo de cada barra.\n",
        "\n",
        "(Podemos graduar o eixo horizontal com os pontos médios ou com as fronteiras estabelecidas para as classes)"
      ]
    },
    {
      "cell_type": "code",
      "execution_count": 10,
      "metadata": {},
      "outputs": [
        {
          "data": {
            "image/png": "[encoded data removed]",
            "text/plain": [
              "<Figure size 432x288 with 1 Axes>"
            ]
          },
          "metadata": {
            "needs_background": "light"
          },
          "output_type": "display_data"
        }
      ],
      "source": [
        "bins = [classe.left for classe in intervalos] + [nova_dist_freq['Classe'][n_classes - 1].right] \n",
        "## o bins recebe uma lista com os valores de cada classe, ou seja, o limite inferior de cada classe e o limite superior da última classe\n",
        "\n",
        "histograma = data.hist(bins=bins, \n",
        "                       color = 'blue', edgecolor = 'black', grid = False) # edgecolor define a cor da borda, grid define se o grid será exibido ou não\n",
        "\n",
        "# as bins podem ser definidas apenas com o número de classes e o pandas irá calcular os limites de cada classe automaticamente (bins=n_classes)\n",
        "\n",
        "histograma.set(xlabel = 'Preço [U$]', # define o nome do eixo x\n",
        "               ylabel = 'Frequencia\\nnumero de navegadores GPS', # define o nome do eixo y\n",
        "               title = 'Distribuição de frequencias dos preços dos GPS', # define o título do gráfico\n",
        "               xticks = nova_dist_freq['Pontos medios']) # define os pontos médios como os valores do eixo x\n",
        "\n",
        "barras = histograma.patches # pega os retângulos que formam o histograma\n",
        "\n",
        "freqs = nova_dist_freq['Frequência'] # pega os valores da coluna 'Frequência'\n",
        "\n",
        "for barra, freq in zip(barras, freqs): # zip retorna uma lista de tuplas, onde cada tupla contém um elemento de cada lista passada como parâmetro. Nesse caso, cada tupla contém um retângulo e um valor de frequência\n",
        "  altura = barra.get_height() # pega a altura de cada retângulo\n",
        "  histograma.text(barra.get_x() + barra.get_width() / 2, altura, \n",
        "  # define a posição do texto com o eixo x sendo a metade da largura do retângulo e o eixo y sendo a altura do retângulo\n",
        "                  freq, ha = 'center', va = 'bottom') \n",
        "                  # define o texto, a posição horizontal e a posição vertical\n"
      ]
    },
    {
      "cell_type": "markdown",
      "metadata": {},
      "source": [
        "## **Construção do polígono de frequência**\n",
        "\n",
        "Outra maneira de representar graficamente uma distribuição de frequência é usar um **polígono de frequência**. Um polígono de frequência é um gráfico de linha que enfatiza as mudanças contínuas nas frequências.\n"
      ]
    },
    {
      "cell_type": "code",
      "execution_count": 12,
      "metadata": {},
      "outputs": [
        {
          "data": {
            "image/png": "[encoded data removed]",
            "text/plain": [
              "<Figure size 432x288 with 1 Axes>"
            ]
          },
          "metadata": {
            "needs_background": "light"
          },
          "output_type": "display_data"
        }
      ],
      "source": [
        "import matplotlib.pyplot as plt\n",
        "\n",
        "fic_left = [pts_medios[0] - amplitude] # cria uma lista com o valor do primeiro ponto médio menos a amplitude\n",
        "fic_right = [pts_medios[-1] + amplitude] # cria uma lista com o valor do último ponto médio mais a amplitude\n",
        "\n",
        "x_data = fic_left + pts_medios + fic_right \n",
        "# concatena as listas fic_left, pts_medios e fic_right, assim criando uma lista com os pontos médios e os valores dos limites inferior e superior\n",
        "\n",
        "y_data = [0] + list(nova_dist_freq['Frequência']) + [0] \n",
        "# concatena uma lista com o valor 0, a lista de frequências e outra lista com o valor 0, assim criando uma lista com os valores de frequência rodeada por 0\n",
        "\n",
        "plt.plot(x_data, y_data, 'go-') \n",
        "# plota o gráfico de linhas com os pontos médios e os valores de frequência, em que 'go-' define que os pontos serão marcados com um círculo\n",
        "# e que a linha será verde e traçada entre os pontos\n",
        "# para que a linha seja pontilhada, basta trocar o 'go-' por 'go--'.\n",
        "# Para mudar a cor, basta trocar o 'g' por 'r' (vermelho), 'b' (azul), 'y' (amarelo) ou 'k' (preto)\n",
        "\n",
        "plt.xlabel('Preço [US$]') # define o nome do eixo x\n",
        "plt.ylabel('Frequência - Número de navegadores GPS') # define o nome do eixo y\n",
        "plt.title('Distribuição de frequências dos preços de GPS') # define o título do gráfico\n",
        "plt.xticks(x_data) # define os pontos médios como os valores do eixo x\n",
        "\n",
        "plt.yticks(range(0,nova_dist_freq['Frequência'].max()+2,2)) # define os valores do eixo y, sendo o range o intervalo de valores, \n",
        "# o segundo parâmetro é o valor máximo da frequência mais 2, e o terceiro parâmetro é o intervalo entre os valores do eixo y\n",
        "\n",
        "plt.grid() # define que o grid será exibido\n"
      ]
    }
  ],
  "metadata": {
    "colab": {
      "provenance": []
    },
    "kernelspec": {
      "display_name": "Python 3.9.13 64-bit (microsoft store)",
      "language": "python",
      "name": "python3"
    },
    "language_info": {
      "codemirror_mode": {
        "name": "ipython",
        "version": 3
      },
      "file_extension": ".py",
      "mimetype": "text/x-python",
      "name": "python",
      "nbconvert_exporter": "python",
      "pygments_lexer": "ipython3",
      "version": "3.9.13"
    },
    "vscode": {
      "interpreter": {
        "hash": "2409c8f59207a258aca3c1a1a678234dae74af7fa03836267637fb9eb86e1b05"
      }
    }
  },
  "nbformat": 4,
  "nbformat_minor": 0
}
