{
 "cells": [
  {
   "cell_type": "markdown",
   "metadata": {},
   "source": [
    "## Aula 09\n",
    "\n",
    "---\n",
    "\n",
    "**Variáveis aleatórias**\n",
    "\n",
    "- Variável aleatória: é uma variável que pode assumir valores diferentes em cada experimento probabilístico (ou aleatório).\n",
    "- Variável aleatória discreta: é uma variável aleatória que assume valores em um conjunto finito ou contável de valores.\n",
    "    - Exemplo: O número de ligações que um atendente de telemarketing recebe em um dia. (x) pode assumir valores inteiros.\n",
    "- Variável aleatória contínua: é uma variável aleatória que assume valores em um conjunto infinito de valores.\n",
    "    - Exemplo: Quantas horas o atendente de telemarketing fica em uma ligação durante o dia, (x) pode assumir qualquer número entre 0 e 24\n",
    "\n",
    "**Distriuição discreta de probabilidade**\n",
    "- Basicamente o P(x) sempre será menor ou igual a 1 e maior ou igual a 0\n",
    "    - A soma de todos os P(x) será igual a 1 SEMPRE.\n"
   ]
  },
  {
   "cell_type": "code",
   "execution_count": null,
   "metadata": {},
   "outputs": [],
   "source": [
    "######  PYTHON"
   ]
  },
  {
   "cell_type": "markdown",
   "metadata": {},
   "source": [
    "**Média, Variância e Desvio Padrão**\n",
    "\n",
    "- A média de uma variável discreta é dada por: Cada valor de x é multiplicado por sua probabilidade e depois somados todos os valores. \n",
    "    - mi = (x * P(x)).sum()\n",
    "- A variância de uma variável discreta é dada por: Cada valor de x é subtraído da média (ao quadrado) e multiplicado por sua probabilidade e depois somados todos os valores.\n",
    "    - (var)² = ((x - mi)² * P(x)).sum()\n",
    "- O desvio padrão de uma variável discreta é dado pela raiz quadrada da variância.\n",
    "    - raiz((var)²) = ((x - mi)² * P(x)).sum()\n",
    "\n",
    "<img src=\"https://i.imgur.com/yS4uwl1.png\" width=700px>"
   ]
  },
  {
   "cell_type": "code",
   "execution_count": null,
   "metadata": {},
   "outputs": [],
   "source": [
    "######  PYTHON"
   ]
  },
  {
   "cell_type": "markdown",
   "metadata": {},
   "source": [
    "**Valor esperado**\n",
    "\n",
    "- É a média de uma variável discreta aleatória.\n",
    "\n",
    "<img src=\"https://i.imgur.com/822RoE1.png\" width=900px>\n",
    "\n",
    "**<font color=\"red\">Atenção:</font>** Lembrar que pra esse caso o ganho pode ser tanto os ja citados, como o ganho 0, que é o caso de não ganhar nada.\n",
    "\n",
    "- Realizando as contas chegamos a um valor esperado de -1,35 que é o valor esperado para perder, **<font color=\"red\">em média</font>** , R$1,35 cada cartela que seja comprada.\n",
    "\n"
   ]
  }
 ],
 "metadata": {
  "kernelspec": {
   "display_name": "Python 3.10.7 64-bit (microsoft store)",
   "language": "python",
   "name": "python3"
  },
  "language_info": {
   "name": "python",
   "version": "3.10.7"
  },
  "orig_nbformat": 4,
  "vscode": {
   "interpreter": {
    "hash": "0e5b5b920195072d4a4eec1d5ff9e5f87252d2725e2a57da6939cd4fcd91d4cd"
   }
  }
 },
 "nbformat": 4,
 "nbformat_minor": 2
}
