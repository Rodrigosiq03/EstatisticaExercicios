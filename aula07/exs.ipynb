{
 "cells": [
  {
   "cell_type": "code",
   "execution_count": 7,
   "metadata": {},
   "outputs": [],
   "source": [
    "'''\n",
    "EXERCICIO 01\n",
    "'''\n",
    "\n",
    "# A - laçamento de 3 moedas simultaneamente\n",
    "\n",
    "espaco_amostral = ['C', 'K']\n",
    "n_eventos = (2**3)\n",
    "n_eventos = 8\n",
    "\n",
    "diagrama_de_arvore = ['C, C, C', 'C, C, K', 'C, K, C', \n",
    "                      'C, K, K', 'K, C, C', 'K, C, K', \n",
    "                      'K, K, C', 'K, K, K']\n",
    "\n",
    "# B - seleção do tipo sanguíneo de uma pessoa (A, B, AB ou O) com fator RH positivo ou negativo\n",
    "\n",
    "espaco_amostral_TIPOSANGUE = ['A', 'B', 'AB', 'O']\n",
    "espaco_amostral_FATORRH = ['+', '-']\n",
    "n_eventos = (4 * 2)\n",
    "n_eventos = 8\n",
    "\n",
    "diagrama_de_arvore = ['A+', 'A-', 'B+', 'B-', 'AB+', 'AB-', 'O+', 'O-']\n",
    "\n",
    "# C - lançamento de 2 dados de 6 faces simultaneamente\n",
    "\n",
    "espaco_amostral = [1, 2, 3, 4, 5, 6]\n",
    "n_eventos = (6**2)\n",
    "n_eventos = 36\n",
    "\n",
    "diagrama_de_arvore = ['1, 1', '1, 2', '1, 3', '1, 4', '1, 5', '1, 6',\n",
    "                      '2, 1', '2, 2', '2, 3', '2, 4', '2, 5', '2, 6',\n",
    "                      '3, 1', '3, 2', '3, 3', '3, 4', '3, 5', '3, 6',\n",
    "                      '4, 1', '4, 2', '4, 3', '4, 4', '4, 5', '4, 6',\n",
    "                      '5, 1', '5, 2', '5, 3', '5, 4', '5, 5', '5, 6',\n",
    "                      '6, 1', '6, 2', '6, 3', '6, 4', '6, 5', '6, 6']\n",
    "\n",
    "                    \n",
    "\n",
    "\n"
   ]
  },
  {
   "cell_type": "code",
   "execution_count": 6,
   "metadata": {},
   "outputs": [],
   "source": [
    "'''\n",
    "EXERCICIO 02\n",
    "'''\n",
    "\n",
    "# A - Menu\n",
    "\n",
    "# Opções\n",
    "entrada = 5\n",
    "prato_principal = 10\n",
    "sobremesa = 4\n",
    "\n",
    "# Refeições disponíveis\n",
    "menu = entrada * prato_principal * sobremesa\n",
    "menu = 200\n",
    "\n",
    "# B - Imóvel \n",
    "\n",
    "# Codigo de 4 digitos, 1º digito NÃO pode ser 0 e o 4º digito DEVE ser par\n",
    "\n",
    "# 1º digito\n",
    "digito_1 = {'Opções': 9}\n",
    "# print(digito_1['Opções'])\n",
    "\n",
    "# 2º digito\n",
    "digito_2 = {'Opções': 10}\n",
    "\n",
    "# 3º digito\n",
    "digito_3 = {'Opções': 10}\n",
    "\n",
    "# 4º digito\n",
    "digito_4 = {'Opções': 5}\n",
    "\n",
    "# Total de combinações\n",
    "total_combinacoes = digito_1['Opções'] * digito_2['Opções'] * digito_3['Opções'] * digito_4['Opções']\n",
    "total_combinacoes = 4500\n"
   ]
  },
  {
   "cell_type": "code",
   "execution_count": 13,
   "metadata": {},
   "outputs": [
    {
     "name": "stdout",
     "output_type": "stream",
     "text": [
      "A probabilidade que a proxima pessoa pesquisada esteja bem preparada é de 11.97%\n",
      "A probabilidade que a proxima pessoa pesquisada não esteja preparada é de 15.58%\n"
     ]
    }
   ],
   "source": [
    "'''\n",
    "EXERCICIO 03\n",
    "'''\n",
    "\n",
    "# A\n",
    "\n",
    "freq_tot = 259 + 952 + 552 + 337 + 63\n",
    "bem_preparada = (259 / freq_tot)\n",
    "print(f'A probabilidade que a proxima pessoa pesquisada esteja bem preparada é de {bem_preparada:.2%}')\n",
    "\n",
    "# B\n",
    "\n",
    "nao_preparada = (337 / freq_tot)\n",
    "print(f'A probabilidade que a proxima pessoa pesquisada não esteja preparada é de {nao_preparada:.2%}')\n"
   ]
  },
  {
   "cell_type": "code",
   "execution_count": 15,
   "metadata": {},
   "outputs": [
    {
     "name": "stdout",
     "output_type": "stream",
     "text": [
      "A probabilidade de que um morador entre 15 a 29 anos seja escolhido é de 10.36%\n",
      "A probabilidade de que um morador entre 45 a 59 anos seja escolhido é de 27.46%\n"
     ]
    }
   ],
   "source": [
    "'''\n",
    "EXERCICIO 04\n",
    "'''\n",
    "\n",
    "# A\n",
    "\n",
    "freq_tot = 38 + 20 + 31 + 53 + 36 + 15\n",
    "evento_A = (20 / freq_tot)\n",
    "print(f'A probabilidade de que um morador entre 15 a 29 anos seja escolhido é de {evento_A:.2%}')\n",
    "\n",
    "# B\n",
    "\n",
    "evento_B = (53 / freq_tot)\n",
    "print(f'A probabilidade de que um morador entre 45 a 59 anos seja escolhido é de {evento_B:.2%}')"
   ]
  },
  {
   "cell_type": "code",
   "execution_count": 19,
   "metadata": {},
   "outputs": [
    {
     "name": "stdout",
     "output_type": "stream",
     "text": [
      "A probabilidade de que o próximo lançamento de dado seja 5 e a cor seja azul é de 4.17%\n",
      "A probabilidade de que o próximo lançamento de dado seja ímpar e a cor seja verde é de 12.50%\n",
      "A probabilidade de que o próximo lançamento de dado seja menor que 6 e a cor seja amarelo é de 20.83%\n",
      "A probabilidade de que o próximo lançamento de dado não seja menor que 6 e a cor seja amarelo é de 4.17%\n"
     ]
    }
   ],
   "source": [
    "'''\n",
    "EXERCICIO 05\n",
    "'''\n",
    "\n",
    "# A\n",
    "\n",
    "n_5 = {'Opções': 1}\n",
    "azul = {'Opções': 1}\n",
    "\n",
    "evento_a = (1/6) * (1/4)\n",
    "print(f'A probabilidade de que o próximo lançamento de dado seja 5 e a cor seja azul é de {evento_a:.2%}')\n",
    "\n",
    "# B\n",
    "\n",
    "n_impar = {'Opções': 3}\n",
    "verde = {'Opções': 1}\n",
    "\n",
    "evento_b = (1/2) * (1/4)\n",
    "print(f'A probabilidade de que o próximo lançamento de dado seja ímpar e a cor seja verde é de {evento_b:.2%}')\n",
    "\n",
    "# C\n",
    "\n",
    "n_menor_6 = {'Opções': 5}\n",
    "amarelo = {'Opções': 1}\n",
    "\n",
    "evento_c = (5/6) * (1/4)\n",
    "print(f'A probabilidade de que o próximo lançamento de dado seja menor que 6 e a cor seja amarelo é de {evento_c:.2%}')\n",
    "\n",
    "# D\n",
    "\n",
    "n_maior_5 = {'Opções': 1}\n",
    "amarelo = {'Opções': 1}\n",
    "\n",
    "evento_d = (1/6) * (1/4)\n",
    "print(f'A probabilidade de que o próximo lançamento de dado não seja menor que 6 e a cor seja amarelo é de {evento_d:.2%}')\n",
    "\n"
   ]
  },
  {
   "cell_type": "code",
   "execution_count": 24,
   "metadata": {},
   "outputs": [
    {
     "name": "stdout",
     "output_type": "stream",
     "text": [
      "O número de possibilidades de senhas é de 117000\n",
      "A probabilidade de acertar o código na primeira tentativa é de 0.000855%\n",
      "A probabilidade de não acertar o código na primeira tentativa é de 55.384615%\n"
     ]
    }
   ],
   "source": [
    "'''\n",
    "EXERCICIO 06\n",
    "'''\n",
    "\n",
    "# A\n",
    "\n",
    "n_letras = {'Opções': 26}\n",
    "n_digitos = {'Opções': 4}\n",
    "n_numeros = {'Opções': 10}\n",
    "\n",
    "eventos_possiveis = 26 * 9 * 10 * 10 * 5\n",
    "print(f'O número de possibilidades de senhas é de {eventos_possiveis}')\n",
    "\n",
    "# B\n",
    "\n",
    "codigo_correto = (1/26) * (1/9) * (1/10) * (1/10) * (1/5)\n",
    "print(f'A probabilidade de acertar o código na primeira tentativa é de {codigo_correto:%}')\n",
    "\n",
    "# C\n",
    "\n",
    "codigo_correto = (25/26) * (8/9) * (9/10) * (9/10) * (4/5)\n",
    "print(f'A probabilidade de não acertar o código na primeira tentativa é de {codigo_correto:%}')\n"
   ]
  },
  {
   "cell_type": "code",
   "execution_count": 25,
   "metadata": {},
   "outputs": [
    {
     "name": "stdout",
     "output_type": "stream",
     "text": [
      "O espaço amostral é de 8\n",
      "O evento de chover todos os dias é RRR\n"
     ]
    }
   ],
   "source": [
    "'''\n",
    "EXERCICIO 07\n",
    "'''\n",
    "\n",
    "# A\n",
    "\n",
    "dia1 = {'Opções': 2}\n",
    "dia2 = {'Opções': 2}\n",
    "dia3 = {'Opções': 2}\n",
    "espaco_amostral = 2 * 2 * 2\n",
    "print(f'O espaço amostral é de {espaco_amostral}')\n",
    "\n",
    "# B\n",
    "\n",
    "# Chove todos os 3 dias\n",
    "\n",
    "chove_todos = {'Chove todos os dias': 1, 'Evento': 'RRR'}\n",
    "print(f'O evento de chover todos os dias é {chove_todos[\"Evento\"]}')\n",
    "\n",
    "# C\n",
    "\n",
    "# Chove exatamente um dia\n",
    "\n",
    "chove_exatamente_um = {'Chove exatamente um dia': 3, 'Evento': 'SSR, SRS, RSS'}\n",
    "print(f'O evento de chover exatamente um dia é {chove_exatamente_um[\"Evento\"]}')\n",
    "\n",
    "# D\n",
    "\n",
    "# Chove pelo menos um dia\n",
    "\n",
    "chove_pelo_menos_um = {'Chove pelo menos um dia': 7, \n",
    "                       'Evento': 'SSR, SRS, SRR, RSS, RSR, RRS, RRR'}\n",
    "print(f'O evento de chover pelo menos um dia é {chove_pelo_menos_um[\"Evento\"]}')"
   ]
  },
  {
   "cell_type": "code",
   "execution_count": 27,
   "metadata": {},
   "outputs": [
    {
     "name": "stdout",
     "output_type": "stream",
     "text": [
      "A probabilidade de que um funcionário escolhido tenha doutorado é de 3.30%\n",
      "A probabilidade de que um funcionário escolhido tenha tecnólogo é de 25.27%\n",
      "A probabilidade de que um funcionário escolhido tenha mestrado é de 27.47%\n",
      "A probabilidade de que um funcionário escolhido tenha ensino médio é de 4.40%\n"
     ]
    }
   ],
   "source": [
    "'''\n",
    "EXERCICIO 08\n",
    "'''\n",
    "\n",
    "# A (Doutorado)\n",
    "\n",
    "freq_tot = 3 + 25 + 34 + 23 + 4 + 2\n",
    "doutorado = (3 / freq_tot)\n",
    "print(f'A probabilidade de que um funcionário escolhido tenha doutorado é de {doutorado:.2%}')\n",
    "\n",
    "# B (Tecnólogo)\n",
    "\n",
    "tecnologo = (23 / freq_tot)\n",
    "print(f'A probabilidade de que um funcionário escolhido tenha tecnólogo é de {tecnologo:.2%}')\n",
    "\n",
    "# C (Mestrado)\n",
    "\n",
    "mestrado = (25 / freq_tot)\n",
    "print(f'A probabilidade de que um funcionário escolhido tenha mestrado é de {mestrado:.2%}')\n",
    "\n",
    "# D (Ensino Médio)\n",
    "\n",
    "ensino_medio = (4 / freq_tot)\n",
    "print(f'A probabilidade de que um funcionário escolhido tenha ensino médio é de {ensino_medio:.2%}')\n"
   ]
  },
  {
   "cell_type": "code",
   "execution_count": 28,
   "metadata": {},
   "outputs": [
    {
     "name": "stdout",
     "output_type": "stream",
     "text": [
      "A probabilidade de que um trabalhador esteja empregado na industria de serviços é de 81.19%\n",
      "A probabilidade de que um trabalhador esteja empregado na industria de manufatura é de 10.31%\n",
      "A probabilidade de que um trabalhador não esteja empregado na industria de serviços é de 18.81%\n",
      "A probabilidade de que um trabalhador não esteja empregado na industria de agricultura, silvicultura, pesca e caça é de 98.47%\n"
     ]
    }
   ],
   "source": [
    "'''\n",
    "EXERCICIO 09\n",
    "'''\n",
    "\n",
    "# A (esteja empregado na industria de serviços)\n",
    "\n",
    "freq_tot = 115675 + 2186 + 14686 + 9921\n",
    "trabalhadores_servicos = (115675 / freq_tot)\n",
    "print(f'A probabilidade de que um trabalhador esteja empregado na industria de serviços é de {trabalhadores_servicos:.2%}')\n",
    "\n",
    "# B (esteja empregado na industria de manufatura)\n",
    "\n",
    "trabalhadores_manufatura = (14686 / freq_tot)\n",
    "print(f'A probabilidade de que um trabalhador esteja empregado na industria de manufatura é de {trabalhadores_manufatura:.2%}')\n",
    "\n",
    "# C (não esteja empregado na industria de serviços)\n",
    "\n",
    "trabalhadores_nao_servicos = (1 - trabalhadores_servicos)\n",
    "print(f'A probabilidade de que um trabalhador não esteja empregado na industria de serviços é de {trabalhadores_nao_servicos:.2%}')\n",
    "\n",
    "# D (não esteja empregado na industria de agricultura, silvicultura, pesca e caça) \n",
    "\n",
    "trabalhadores_nao_agricultura = (1 - (2186 / freq_tot))\n",
    "print(f'A probabilidade de que um trabalhador não esteja empregado na industria de agricultura, silvicultura, pesca e caça é de {trabalhadores_nao_agricultura:.2%}')\n"
   ]
  }
 ],
 "metadata": {
  "kernelspec": {
   "display_name": "Python 3.9.13 64-bit",
   "language": "python",
   "name": "python3"
  },
  "language_info": {
   "codemirror_mode": {
    "name": "ipython",
    "version": 3
   },
   "file_extension": ".py",
   "mimetype": "text/x-python",
   "name": "python",
   "nbconvert_exporter": "python",
   "pygments_lexer": "ipython3",
   "version": "3.9.13"
  },
  "orig_nbformat": 4,
  "vscode": {
   "interpreter": {
    "hash": "8e284ee3255a07ad8bf76694974743c4c81cb57e7c969474d752d949b11d721e"
   }
  }
 },
 "nbformat": 4,
 "nbformat_minor": 2
}
