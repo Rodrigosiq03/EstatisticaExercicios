{
 "cells": [
  {
   "cell_type": "markdown",
   "metadata": {},
   "source": [
    "# **Aula 3**\n",
    "---"
   ]
  },
  {
   "cell_type": "markdown",
   "metadata": {},
   "source": [
    "## **Gráficos de distribuições de frequência**\n",
    "\n",
    "Um **histograma de frequência relativa** tem a mesma forma e a mesma escala horizontal de um histograma de frequência absoluta, mas a escala vertical é diferente. A área de cada retângulo é igual à frequência relativa da classe. A área total do histograma é igual a 1."
   ]
  },
  {
   "cell_type": "code",
   "execution_count": 1,
   "metadata": {},
   "outputs": [
    {
     "data": {
      "text/html": [
       "<div>\n",
       "<style scoped>\n",
       "    .dataframe tbody tr th:only-of-type {\n",
       "        vertical-align: middle;\n",
       "    }\n",
       "\n",
       "    .dataframe tbody tr th {\n",
       "        vertical-align: top;\n",
       "    }\n",
       "\n",
       "    .dataframe thead th {\n",
       "        text-align: right;\n",
       "    }\n",
       "</style>\n",
       "<table border=\"1\" class=\"dataframe\">\n",
       "  <thead>\n",
       "    <tr style=\"text-align: right;\">\n",
       "      <th></th>\n",
       "      <th>Classe</th>\n",
       "      <th>Frequência</th>\n",
       "      <th>Pontos médios</th>\n",
       "      <th>Frequência relativa</th>\n",
       "      <th>Frequência acumulada</th>\n",
       "    </tr>\n",
       "  </thead>\n",
       "  <tbody>\n",
       "    <tr>\n",
       "      <th>0</th>\n",
       "      <td>(65, 105]</td>\n",
       "      <td>6</td>\n",
       "      <td>85.0</td>\n",
       "      <td>0.200000</td>\n",
       "      <td>6</td>\n",
       "    </tr>\n",
       "    <tr>\n",
       "      <th>1</th>\n",
       "      <td>(105, 145]</td>\n",
       "      <td>9</td>\n",
       "      <td>125.0</td>\n",
       "      <td>0.300000</td>\n",
       "      <td>15</td>\n",
       "    </tr>\n",
       "    <tr>\n",
       "      <th>2</th>\n",
       "      <td>(145, 185]</td>\n",
       "      <td>6</td>\n",
       "      <td>165.0</td>\n",
       "      <td>0.200000</td>\n",
       "      <td>21</td>\n",
       "    </tr>\n",
       "    <tr>\n",
       "      <th>3</th>\n",
       "      <td>(185, 225]</td>\n",
       "      <td>4</td>\n",
       "      <td>205.0</td>\n",
       "      <td>0.133333</td>\n",
       "      <td>25</td>\n",
       "    </tr>\n",
       "    <tr>\n",
       "      <th>4</th>\n",
       "      <td>(225, 265]</td>\n",
       "      <td>2</td>\n",
       "      <td>245.0</td>\n",
       "      <td>0.066667</td>\n",
       "      <td>27</td>\n",
       "    </tr>\n",
       "    <tr>\n",
       "      <th>5</th>\n",
       "      <td>(265, 305]</td>\n",
       "      <td>1</td>\n",
       "      <td>285.0</td>\n",
       "      <td>0.033333</td>\n",
       "      <td>28</td>\n",
       "    </tr>\n",
       "    <tr>\n",
       "      <th>6</th>\n",
       "      <td>(305, 345]</td>\n",
       "      <td>2</td>\n",
       "      <td>325.0</td>\n",
       "      <td>0.066667</td>\n",
       "      <td>30</td>\n",
       "    </tr>\n",
       "  </tbody>\n",
       "</table>\n",
       "</div>"
      ],
      "text/plain": [
       "       Classe  Frequência  Pontos médios  Frequência relativa  \\\n",
       "0   (65, 105]           6           85.0             0.200000   \n",
       "1  (105, 145]           9          125.0             0.300000   \n",
       "2  (145, 185]           6          165.0             0.200000   \n",
       "3  (185, 225]           4          205.0             0.133333   \n",
       "4  (225, 265]           2          245.0             0.066667   \n",
       "5  (265, 305]           1          285.0             0.033333   \n",
       "6  (305, 345]           2          325.0             0.066667   \n",
       "\n",
       "   Frequência acumulada  \n",
       "0                     6  \n",
       "1                    15  \n",
       "2                    21  \n",
       "3                    25  \n",
       "4                    27  \n",
       "5                    28  \n",
       "6                    30  "
      ]
     },
     "execution_count": 1,
     "metadata": {},
     "output_type": "execute_result"
    }
   ],
   "source": [
    "import pandas as pd\n",
    "from math import ceil\n",
    "# Conjunto de dados\n",
    "data = pd.Series([128, 100, 180, 150, 200, 90, 340, 105, 85, 270,\n",
    "                  200, 65, 230, 150, 150, 120, 130, 80, 230, 200,\n",
    "                  110, 126, 170, 132, 140, 112, 90, 340, 170, 190])\n",
    "\n",
    "# Valores máximo, mínimo e número de classes\n",
    "v_max = data.max()\n",
    "v_min = data.min()\n",
    "n_classes = 7\n",
    "# Distribuição de frequência\n",
    "dist_freq = data.value_counts(bins=7).sort_index()\n",
    "# Reconfiguração do conjunto de dados: Series para DataFrame\n",
    "nova_dist_freq = pd.DataFrame(dist_freq)\n",
    "nova_dist_freq = nova_dist_freq.reset_index()\n",
    "nova_dist_freq.columns = ['Classe', 'Frequência']\n",
    "# Cálculo da amplitude de classe, com respectivos intervalos de classe\n",
    "amplitude = round((v_max-v_min)/n_classes)+1\n",
    "intervalos = pd.interval_range(start=v_min, end=v_max+amplitude, freq=amplitude)\n",
    "# Atribuição dos intervalos para a coluna Classe\n",
    "nova_dist_freq['Classe'] = intervalos\n",
    "# Cálculo dos pontos médios das classe\n",
    "pts_medios = [inter.mid for inter in intervalos]\n",
    "# Inserção da coluna Pontos médios\n",
    "nova_dist_freq['Pontos médios'] = pts_medios\n",
    "# Cálculo e inserção das colunas de frequência relativa e acumulada\n",
    "observacoes = len(data)\n",
    "nova_dist_freq['Frequência relativa'] = nova_dist_freq['Frequência']/observacoes\n",
    "nova_dist_freq['Frequência acumulada'] = nova_dist_freq['Frequência'].cumsum()\n",
    "nova_dist_freq"
   ]
  },
  {
   "cell_type": "markdown",
   "metadata": {},
   "source": [
    "(código para seguirmos com os mesmos dados da aula anterior)"
   ]
  },
  {
   "cell_type": "markdown",
   "metadata": {},
   "source": [
    "## **Histograma de frequência relativa**\n",
    "\n",
    "A estratégia para construir um histograma de frequência relativa é a mesma que para construir um histograma de frequência absoluta. A única diferença é que, ao invés de calcularmos a frequência absoluta de cada classe, calculamos a frequência relativa de cada classe. A diferença é o uso do parâmetro weights, que é um vetor de pesos, onde cada elemento do vetor é o peso da observação correspondente. No caso do histograma de frequência absoluta, o peso de cada observação é 1. No caso do histograma de frequência relativa, o peso de cada observação é a frequência relativa da classe correspondente. "
   ]
  },
  {
   "cell_type": "code",
   "execution_count": 2,
   "metadata": {},
   "outputs": [
    {
     "data": {
      "image/png": "[encoded data removed]",
      "text/plain": [
       "<Figure size 432x288 with 1 Axes>"
      ]
     },
     "metadata": {
      "needs_background": "light"
     },
     "output_type": "display_data"
    }
   ],
   "source": [
    "import numpy as np # biblioteca para cálculos numéricos\n",
    "\n",
    "histograma = data.hist(bins=[inter.left for inter in intervalos] + \n",
    "                       [nova_dist_freq['Classe'][n_classes - 1].right],\n",
    "                       color='blue', edgecolor='black', grid=False,\n",
    "                       weights=np.ones_like(data)/observacoes) # ones_like: cria um array com o mesmo tamanho de data, porém dividido por observacoes\n",
    "\n",
    "histograma.set(xlabel = 'Preço [U$]', # nome do eixo x\n",
    "               ylabel = 'Frequencia\\nnumero de navegadores GPS', # nome do eixo y\n",
    "               title = 'Distribuição de frequencias dos preços dos GPS', # título do gráfico\n",
    "               xticks = nova_dist_freq['Pontos médios']) # define os pontos médios como marcadores do eixo x\n",
    "\n",
    "# Inserção de rótulos nas barras do histograma\n",
    "\n",
    "barras = histograma.patches # pega as barras do histograma\n",
    "freqs = nova_dist_freq['Frequência relativa'] # pega as frequências relativas\n",
    "for barra, freq in zip(barras, freqs): # para cada barra e frequência\n",
    "    altura = barra.get_height() # pega a altura da barra\n",
    "    texto_freq = f'{freq:.3f}' # formata a frequência para 3 casas decimais\n",
    "    histograma.text(barra.get_x()+barra.get_width()/2, altura, # insere o texto no centro da barra\n",
    "                    texto_freq, ha='center', va='bottom') # alinhamento horizontal e vertical"
   ]
  },
  {
   "cell_type": "markdown",
   "metadata": {},
   "source": [
    "# **Histograma de frequência relativa com escala vertical expressa em porcentagem**\n",
    "\n",
    "Outra forma de construir um histograma de frequência relativa é com a escala vertical expressa em porcentagem. Para isso, basta multiplicar os pesos por 100."
   ]
  },
  {
   "cell_type": "code",
   "execution_count": 3,
   "metadata": {},
   "outputs": [
    {
     "data": {
      "image/png": "[encoded data removed]",
      "text/plain": [
       "<Figure size 432x288 with 1 Axes>"
      ]
     },
     "metadata": {
      "needs_background": "light"
     },
     "output_type": "display_data"
    }
   ],
   "source": [
    "histograma_perc = data.hist(bins=[inter.left for inter in intervalos] +\n",
    "                       [nova_dist_freq['Classe'][n_classes - 1].right],\n",
    "                       color='blue', edgecolor='black', grid=False,\n",
    "                       weights=np.ones_like(data)*100/observacoes) # observe que agora os pesos são multiplicados por 100 antes de serem divididos por observacoes\n",
    "\n",
    "histograma_perc.set(xlabel = 'Preço [U$]',\n",
    "               ylabel = 'Frequencia\\n(navegadores GPS) [%]', # alteração do nome do eixo y\n",
    "               title = 'Distribuição de frequencias dos preços dos GPS',\n",
    "               xticks = nova_dist_freq['Pontos médios'])\n",
    "\n",
    "barras = histograma_perc.patches\n",
    "freqs = nova_dist_freq['Frequência relativa']\n",
    "for barra, freq in zip(barras, freqs):\n",
    "    altura = barra.get_height()\n",
    "    texto_freq = f'{freq*100:.1f}' # observe que agora a frequência é multiplicada por 100 antes de ser formatada\n",
    "    histograma_perc.text(barra.get_x()+barra.get_width()/2, altura,\n",
    "                         texto_freq, ha='center', va='bottom')"
   ]
  },
  {
   "cell_type": "markdown",
   "metadata": {},
   "source": [
    "## **Ogiva (gráfico de frequência acumulada)**\n",
    "\n",
    "Para descrever o número de registros de dados que são menores que ou iguais a um determinado valor limite, utiliza-se um **gráfico de frequência acumulada.** \n",
    "\n",
    "Um **gráfico de frequência acumulada** ou **ogiva** é um gráfico de linhas que mostra a frequência acumulada até cada classe em sua fronteira inferior. As fronteiras superiores são marcadas no eixo horizontal e as frequências acumuladas são marcadas no eixo vertical. \n",
    "\n",
    "\n"
   ]
  },
  {
   "cell_type": "code",
   "execution_count": 4,
   "metadata": {},
   "outputs": [
    {
     "data": {
      "image/png": "[encoded data removed]",
      "text/plain": [
       "<Figure size 432x288 with 1 Axes>"
      ]
     },
     "metadata": {
      "needs_background": "light"
     },
     "output_type": "display_data"
    }
   ],
   "source": [
    "import matplotlib.pyplot as plt # biblioteca para plotar gráficos\n",
    "\n",
    "fic_left = [nova_dist_freq['Classe'][0].left] # pega o limite esquerdo da primeira classe\n",
    "x_data = fic_left + [extremo.right for extremo in nova_dist_freq['Classe']] # pega os limites direitos de todas as classes e adiciona ao limite esquerdo da primeira classe\n",
    "y_data = [0] + list(nova_dist_freq['Frequência acumulada']) # pega as frequências acumuladas e adiciona 0 no início\n",
    "\n",
    "# Plotagem da ogiva, com diversos atributos\n",
    "plt.plot(x_data, y_data, 'go--') # plota a ogiva com x_data e y_data, com bolinhas verdes e traços pontilhados\n",
    "plt.xlabel('Preço[U$]') # nome do eixo x\n",
    "plt.ylabel('Frequencia acumulada\\nNumero de navegadores GPS') # nome do eixo y\n",
    "plt.title('Disttribuição de frequencias dos preços de GPS') # título do gráfico\n",
    "plt.xticks(x_data) # define x_data (limite esquerdo da primeira classe + limites direitos das demais) como marcadores do eixo x\n",
    "plt.grid() # adiciona uma grade no gráfico"
   ]
  },
  {
   "cell_type": "markdown",
   "metadata": {},
   "source": [
    "## **Gráfico de pizza**\n",
    "\n",
    "**Gráficos de pizza** fornecem uma maneira conveniente de apresentar graficamente dados qualitativos como percentagens de um todo. \n",
    "\n",
    "*Os números de títulos conferidos (em milhares) em 2011 nos Estaum cireuto dividido em dos Unidos constam na tabela a seguir. Construa um gráfico de pizza para representar esses dados.*\n"
   ]
  },
  {
   "cell_type": "code",
   "execution_count": 6,
   "metadata": {},
   "outputs": [
    {
     "data": {
      "text/html": [
       "<div>\n",
       "<style scoped>\n",
       "    .dataframe tbody tr th:only-of-type {\n",
       "        vertical-align: middle;\n",
       "    }\n",
       "\n",
       "    .dataframe tbody tr th {\n",
       "        vertical-align: top;\n",
       "    }\n",
       "\n",
       "    .dataframe thead th {\n",
       "        text-align: right;\n",
       "    }\n",
       "</style>\n",
       "<table border=\"1\" class=\"dataframe\">\n",
       "  <thead>\n",
       "    <tr style=\"text-align: right;\">\n",
       "      <th></th>\n",
       "      <th>Título</th>\n",
       "      <th>Frequencia</th>\n",
       "    </tr>\n",
       "  </thead>\n",
       "  <tbody>\n",
       "    <tr>\n",
       "      <th>0</th>\n",
       "      <td>Tecnólogo</td>\n",
       "      <td>942</td>\n",
       "    </tr>\n",
       "    <tr>\n",
       "      <th>1</th>\n",
       "      <td>Bacharelado</td>\n",
       "      <td>1716</td>\n",
       "    </tr>\n",
       "    <tr>\n",
       "      <th>2</th>\n",
       "      <td>Mestrado</td>\n",
       "      <td>731</td>\n",
       "    </tr>\n",
       "    <tr>\n",
       "      <th>3</th>\n",
       "      <td>Doutorado</td>\n",
       "      <td>164</td>\n",
       "    </tr>\n",
       "  </tbody>\n",
       "</table>\n",
       "</div>"
      ],
      "text/plain": [
       "        Título  Frequencia\n",
       "0    Tecnólogo         942\n",
       "1  Bacharelado        1716\n",
       "2     Mestrado         731\n",
       "3    Doutorado         164"
      ]
     },
     "metadata": {},
     "output_type": "display_data"
    }
   ],
   "source": [
    "dados = [ \n",
    "    ['Tecnólogo', 942], \n",
    "    ['Bacharelado', 1716], \n",
    "    ['Mestrado', 731], \n",
    "    ['Doutorado', 164]\n",
    "         ] # Criação do conjunto de dados\n",
    "tabela = pd.DataFrame(dados, columns = ['Título', 'Frequencia']) # criação da tabela\n",
    "display(tabela)"
   ]
  },
  {
   "cell_type": "markdown",
   "metadata": {},
   "source": [
    "Para isso, devemos calcular a frequência relativa de cada classe e multiplicar por 360 para obter o ângulo correspondente a cada classe. Ou, ao invés disso, podemos usar o método **pie** do matplotlib, que calcula os ângulos automaticamente e plota o gráfico de pizza. O método pie recebe como parâmetro um vetor com as frequências relativas das classes e um vetor com as etiquetas das classes. Além disso, autopct é um parâmetro opcional que permite que o matplotlib calcule e imprima a porcentagem correspondente a cada classe, e startangle permite que o gráfico seja rotacionado em um ângulo específico."
   ]
  },
  {
   "cell_type": "code",
   "execution_count": 7,
   "metadata": {},
   "outputs": [
    {
     "data": {
      "image/png": "[encoded data removed]",
      "text/plain": [
       "<Figure size 432x288 with 1 Axes>"
      ]
     },
     "metadata": {},
     "output_type": "display_data"
    }
   ],
   "source": [
    "pizza = plt.pie(tabela['Frequencia'], labels = tabela['Título'],\n",
    "                autopct = '%1.1f%%', startangle = 90)"
   ]
  },
  {
   "cell_type": "markdown",
   "metadata": {},
   "source": [
    "## **Gráfico de Pareto**\n",
    "\n",
    "O **gráfico de Pareto** é um gráfico de barras verticais no qual a altura de cada barra representa a frequência ou a frequência relativa. \n",
    "\n",
    "*Recentemente, a indústria de varejo perdeu US$ 34.5 bilhões com redução nos estoques. A redução de estoque é uma perda de estoque por meio de quebra, roubo de carga, roubo em lojas e assim por diante. As principais causas da redução de estoque são erro administrativo (US$ 4,2 bilhões), roubo por funcionários (US$ 15,1 bilhões), roubo em lojas (US$ 12,3 bilhões), desconhecida (US$ 1,1 bilhão) e fraude nas vendas (US$ 1,7 bilhão). Use um gráfico de Pareto para organizar os dados. Qual causa de redução de estoque os varejistas deveriam tratar primeiro?*"
   ]
  },
  {
   "cell_type": "code",
   "execution_count": 9,
   "metadata": {},
   "outputs": [
    {
     "data": {
      "text/html": [
       "<div>\n",
       "<style scoped>\n",
       "    .dataframe tbody tr th:only-of-type {\n",
       "        vertical-align: middle;\n",
       "    }\n",
       "\n",
       "    .dataframe tbody tr th {\n",
       "        vertical-align: top;\n",
       "    }\n",
       "\n",
       "    .dataframe thead th {\n",
       "        text-align: right;\n",
       "    }\n",
       "</style>\n",
       "<table border=\"1\" class=\"dataframe\">\n",
       "  <thead>\n",
       "    <tr style=\"text-align: right;\">\n",
       "      <th></th>\n",
       "      <th>Valores</th>\n",
       "      <th>PorcAcum</th>\n",
       "    </tr>\n",
       "  </thead>\n",
       "  <tbody>\n",
       "    <tr>\n",
       "      <th>Roubo funcionários</th>\n",
       "      <td>15.1</td>\n",
       "      <td>43.895349</td>\n",
       "    </tr>\n",
       "    <tr>\n",
       "      <th>Roubo lojas</th>\n",
       "      <td>12.3</td>\n",
       "      <td>79.651163</td>\n",
       "    </tr>\n",
       "    <tr>\n",
       "      <th>Erro Adm</th>\n",
       "      <td>4.2</td>\n",
       "      <td>91.860465</td>\n",
       "    </tr>\n",
       "    <tr>\n",
       "      <th>Fraude vendas</th>\n",
       "      <td>1.7</td>\n",
       "      <td>96.802326</td>\n",
       "    </tr>\n",
       "    <tr>\n",
       "      <th>Desconhecida</th>\n",
       "      <td>1.1</td>\n",
       "      <td>100.000000</td>\n",
       "    </tr>\n",
       "  </tbody>\n",
       "</table>\n",
       "</div>"
      ],
      "text/plain": [
       "                    Valores    PorcAcum\n",
       "Roubo funcionários     15.1   43.895349\n",
       "Roubo lojas            12.3   79.651163\n",
       "Erro Adm                4.2   91.860465\n",
       "Fraude vendas           1.7   96.802326\n",
       "Desconhecida            1.1  100.000000"
      ]
     },
     "metadata": {},
     "output_type": "display_data"
    }
   ],
   "source": [
    "dados = pd.DataFrame({'Valores': [4.2, 15.1, 12.3, 1.1, 1.7]})\n",
    "dados.index = ['Erro Adm', 'Roubo funcionários',\n",
    "               'Roubo lojas', 'Desconhecida', 'Fraude vendas'] # define os índices\n",
    "# Note que o conjunto de dados é criado novamente usando o Pandas, porém empregando um dicionário para representar a coluna de valores. Também será incluída a representação de porcentagem acumulada. \n",
    "\n",
    "dados = dados.sort_values(by='Valores', ascending=False) # ordena os valores em ordem decrescente\n",
    "\n",
    "dados['PorcAcum'] = dados['Valores'].cumsum() / dados['Valores'].sum()*100 # calcula a porcentagem acumulada\n",
    "\n",
    "display(dados)\n"
   ]
  },
  {
   "cell_type": "code",
   "execution_count": 10,
   "metadata": {},
   "outputs": [
    {
     "data": {
      "image/png": "[encoded data removed]",
      "text/plain": [
       "<Figure size 432x288 with 2 Axes>"
      ]
     },
     "metadata": {
      "needs_background": "light"
     },
     "output_type": "display_data"
    }
   ],
   "source": [
    "from matplotlib.ticker import PercentFormatter # importa o módulo para formatar os valores em porcentagem (por algum motivo, isso é necessário)\n",
    "\n",
    "cor_barra = 'steelblue' # define a cor das barras\n",
    "cor_linha = 'red' # define a cor da linha\n",
    "tam_linha = 4 # define o tamanho da linha\n",
    "\n",
    "fig, pareto = plt.subplots() # cria o objeto fig e pareto usando subplots, que permite a criação de múltiplos gráficos em uma mesma figura\n",
    "\n",
    "pareto.bar(dados.index, dados['Valores'], color=cor_barra) # cria o gráfico de barras\n",
    "\n",
    "pareto.set(xlabel='Causas', # define o nome do eixo x\n",
    "           ylabel='Bilhoes de Causas', # define o nome do eixo y\n",
    "           title='Principais causas de redução de estoque') # define o título do gráfico\n",
    "\n",
    "barras = pareto.patches\n",
    "valores = dados['Valores']\n",
    "for barra, valor in zip(barras, valores): # acho que você já entendeu o que esse loop faz\n",
    "    altura = barra.get_height()\n",
    "    pareto.text(barra.get_x()+barra.get_width()/2, altura,\n",
    "                valor, ha='center', va='bottom')\n",
    "    \n",
    "linha = pareto.twinx() # twinx permite a criação de um segundo eixo y, que compartilha o mesmo eixo x\n",
    "\n",
    "linha.plot(dados.index, dados['PorcAcum'], \n",
    "           color=cor_linha, marker='o', ms=tam_linha) # cria o gráfico de linha\n",
    "\n",
    "linha.yaxis.set_major_formatter(PercentFormatter()) # define o formato dos valores do eixo y como porcentagem (por isso o import)\n",
    "\n",
    "linha.tick_params(axis='y', colors = cor_linha) # define a cor dos valores do eixo y"
   ]
  },
  {
   "cell_type": "markdown",
   "metadata": {},
   "source": [
    "## **Dados emparelhados**\n",
    "\n",
    "Quando cada valor em um conjunto de dados está associado a um valor em outro conjunto de dados, dizemos que os dados estão **emparelhados**. Uma maneira de representar dados emparelhados é com um **gráfico de dispersão**, no qual os valores de um conjunto de dados são plotados no eixo horizontal e os valores do outro conjunto de dados são plotados no eixo vertical. \n",
    "\n",
    "O conjunto de dados Íris de Fisher, elaborado pelo estatístico britânico Ronald Fisher, será utilizado como exemplo. Esse conjunto de dados descreve várias características físicas, tais como o comprimento e a largura das pétalas (em centímetros), para três espécies da flor íris. **<font color=\"red\">(ATENÇÃO: O arquivo iris.csv disponível no OpenLMS deve ser importado ao notebook caso esteja usando o Colab, ou deve estar no mesmo diretório que o arquivo ipynb caso esteja utilizando o VCode)</font>**\n"
   ]
  },
  {
   "cell_type": "code",
   "execution_count": 12,
   "metadata": {},
   "outputs": [
    {
     "data": {
      "text/html": [
       "<div>\n",
       "<style scoped>\n",
       "    .dataframe tbody tr th:only-of-type {\n",
       "        vertical-align: middle;\n",
       "    }\n",
       "\n",
       "    .dataframe tbody tr th {\n",
       "        vertical-align: top;\n",
       "    }\n",
       "\n",
       "    .dataframe thead th {\n",
       "        text-align: right;\n",
       "    }\n",
       "</style>\n",
       "<table border=\"1\" class=\"dataframe\">\n",
       "  <thead>\n",
       "    <tr style=\"text-align: right;\">\n",
       "      <th></th>\n",
       "      <th>sepallength</th>\n",
       "      <th>sepalwidth</th>\n",
       "      <th>petallength</th>\n",
       "      <th>petalwidth</th>\n",
       "      <th>class</th>\n",
       "    </tr>\n",
       "  </thead>\n",
       "  <tbody>\n",
       "    <tr>\n",
       "      <th>0</th>\n",
       "      <td>5.1</td>\n",
       "      <td>3.5</td>\n",
       "      <td>1.4</td>\n",
       "      <td>0.2</td>\n",
       "      <td>Iris-setosa</td>\n",
       "    </tr>\n",
       "    <tr>\n",
       "      <th>1</th>\n",
       "      <td>4.9</td>\n",
       "      <td>3.0</td>\n",
       "      <td>1.4</td>\n",
       "      <td>0.2</td>\n",
       "      <td>Iris-setosa</td>\n",
       "    </tr>\n",
       "    <tr>\n",
       "      <th>2</th>\n",
       "      <td>4.7</td>\n",
       "      <td>3.2</td>\n",
       "      <td>1.3</td>\n",
       "      <td>0.2</td>\n",
       "      <td>Iris-setosa</td>\n",
       "    </tr>\n",
       "    <tr>\n",
       "      <th>3</th>\n",
       "      <td>4.6</td>\n",
       "      <td>3.1</td>\n",
       "      <td>1.5</td>\n",
       "      <td>0.2</td>\n",
       "      <td>Iris-setosa</td>\n",
       "    </tr>\n",
       "    <tr>\n",
       "      <th>4</th>\n",
       "      <td>5.0</td>\n",
       "      <td>3.6</td>\n",
       "      <td>1.4</td>\n",
       "      <td>0.2</td>\n",
       "      <td>Iris-setosa</td>\n",
       "    </tr>\n",
       "  </tbody>\n",
       "</table>\n",
       "</div>"
      ],
      "text/plain": [
       "   sepallength  sepalwidth  petallength  petalwidth        class\n",
       "0          5.1         3.5          1.4         0.2  Iris-setosa\n",
       "1          4.9         3.0          1.4         0.2  Iris-setosa\n",
       "2          4.7         3.2          1.3         0.2  Iris-setosa\n",
       "3          4.6         3.1          1.5         0.2  Iris-setosa\n",
       "4          5.0         3.6          1.4         0.2  Iris-setosa"
      ]
     },
     "metadata": {},
     "output_type": "display_data"
    },
    {
     "data": {
      "image/png": "[encoded data removed]",
      "text/plain": [
       "<Figure size 432x288 with 1 Axes>"
      ]
     },
     "metadata": {
      "needs_background": "light"
     },
     "output_type": "display_data"
    }
   ],
   "source": [
    "iris = pd.read_csv('iris.csv') # leitura do arquivo iris.csv\n",
    "display(iris.head()) # exibição das primeiras linhas do arquivo\n",
    "\n",
    "plt.scatter(iris['petallength'], iris['petalwidth']) # scatter plota um gráfico de dispersão com os valores de petallength e petalwidth como eixos x e y, respectivamente\n",
    "plt.scatter(iris['sepallength'], iris['sepalwidth']) # adiciona um segundo gráfico de dispersão com os valores de sepallength e sepalwidth como eixos x e y, respectivamente\n",
    "plt.xlabel('Comprimento da pétala [cm]') # define o nome do eixo x\n",
    "plt.ylabel('Largura da pétala [cm]') # define o nome do eixo y\n",
    "plt.title('Conjunto de dados - Íris de Fisher') # define o título do gráfico\n",
    "plt.legend(['Pétala', 'Sépala']) # define a legenda do gráfico\n",
    "plt.grid() # adiciona uma grade no gráfico"
   ]
  },
  {
   "cell_type": "markdown",
   "metadata": {},
   "source": [
    "## **Gráfico de dispersão - Série Temporal**\n",
    "\n",
    "Um conjunto de dados cujos valores são obtidos em intervalos de tempo regulares é chamado de **série temporal**. Um gráfico de dispersão é uma maneira conveniente de representar uma série temporal. (Um gráfico de série temporal tem em seu eixo horizontal uma escala de tempo e no eixo vertical os valores da série temporal.)\n",
    "\n",
    "A tabela a seguir lista o número de assinantes de telefonia celular (em milhões) e o valor médio mensal da conta dos assinantes pelo serviço (em dólares) para os anos de 2002 a 2012 (Fonte: Cellular Telecommunications & Internet Association)."
   ]
  },
  {
   "cell_type": "code",
   "execution_count": 13,
   "metadata": {},
   "outputs": [
    {
     "data": {
      "text/html": [
       "<div>\n",
       "<style scoped>\n",
       "    .dataframe tbody tr th:only-of-type {\n",
       "        vertical-align: middle;\n",
       "    }\n",
       "\n",
       "    .dataframe tbody tr th {\n",
       "        vertical-align: top;\n",
       "    }\n",
       "\n",
       "    .dataframe thead th {\n",
       "        text-align: right;\n",
       "    }\n",
       "</style>\n",
       "<table border=\"1\" class=\"dataframe\">\n",
       "  <thead>\n",
       "    <tr style=\"text-align: right;\">\n",
       "      <th></th>\n",
       "      <th>Assinantes</th>\n",
       "      <th>Conta média</th>\n",
       "    </tr>\n",
       "  </thead>\n",
       "  <tbody>\n",
       "    <tr>\n",
       "      <th>2002</th>\n",
       "      <td>134.6</td>\n",
       "      <td>47.42</td>\n",
       "    </tr>\n",
       "    <tr>\n",
       "      <th>2003</th>\n",
       "      <td>148.1</td>\n",
       "      <td>49.46</td>\n",
       "    </tr>\n",
       "    <tr>\n",
       "      <th>2004</th>\n",
       "      <td>169.5</td>\n",
       "      <td>49.49</td>\n",
       "    </tr>\n",
       "    <tr>\n",
       "      <th>2005</th>\n",
       "      <td>194.5</td>\n",
       "      <td>49.52</td>\n",
       "    </tr>\n",
       "    <tr>\n",
       "      <th>2006</th>\n",
       "      <td>219.7</td>\n",
       "      <td>49.30</td>\n",
       "    </tr>\n",
       "    <tr>\n",
       "      <th>2007</th>\n",
       "      <td>243.4</td>\n",
       "      <td>49.94</td>\n",
       "    </tr>\n",
       "    <tr>\n",
       "      <th>2008</th>\n",
       "      <td>262.7</td>\n",
       "      <td>48.54</td>\n",
       "    </tr>\n",
       "    <tr>\n",
       "      <th>2009</th>\n",
       "      <td>276.6</td>\n",
       "      <td>49.57</td>\n",
       "    </tr>\n",
       "    <tr>\n",
       "      <th>2010</th>\n",
       "      <td>292.8</td>\n",
       "      <td>47.47</td>\n",
       "    </tr>\n",
       "    <tr>\n",
       "      <th>2011</th>\n",
       "      <td>306.3</td>\n",
       "      <td>47.23</td>\n",
       "    </tr>\n",
       "    <tr>\n",
       "      <th>2012</th>\n",
       "      <td>321.7</td>\n",
       "      <td>47.16</td>\n",
       "    </tr>\n",
       "  </tbody>\n",
       "</table>\n",
       "</div>"
      ],
      "text/plain": [
       "      Assinantes  Conta média\n",
       "2002       134.6        47.42\n",
       "2003       148.1        49.46\n",
       "2004       169.5        49.49\n",
       "2005       194.5        49.52\n",
       "2006       219.7        49.30\n",
       "2007       243.4        49.94\n",
       "2008       262.7        48.54\n",
       "2009       276.6        49.57\n",
       "2010       292.8        47.47\n",
       "2011       306.3        47.23\n",
       "2012       321.7        47.16"
      ]
     },
     "metadata": {},
     "output_type": "display_data"
    }
   ],
   "source": [
    "dados = pd.DataFrame({'Assinantes': [134.6, 148.1, 169.5, 194.5, 219.7, 243.4,\n",
    "                                     262.7, 276.6, 292.8, 306.3, 321.7],\n",
    "                      'Conta média':[47.42, 49.46, 49.49, 49.52, 49.30, 49.94,\n",
    "                                     48.54, 49.57, 47.47, 47.23, 47.16]})\n",
    "dados.index = list(range(2002, 2013)) # muda os índices da tabela para os anos em que os dados foram medidos\n",
    "display(dados)"
   ]
  },
  {
   "cell_type": "code",
   "execution_count": 14,
   "metadata": {},
   "outputs": [
    {
     "data": {
      "image/png": "[encoded data removed]",
      "text/plain": [
       "<Figure size 432x288 with 2 Axes>"
      ]
     },
     "metadata": {
      "needs_background": "light"
     },
     "output_type": "display_data"
    }
   ],
   "source": [
    "fig, assinantes = plt.subplots() # cria o objeto fig e assinantes usando subplots, que permite a criação de múltiplos gráficos em uma mesma figura\n",
    "assinantes.plot(dados.index, dados['Assinantes'], 'bo-') # aqui, ao invés de usar o scatter, usamos o plot, que permite a criação de gráficos de linha\n",
    "assinantes.set(xlabel='Ano',\n",
    "           ylabel='Milhões de assinantes',\n",
    "           title = 'Telefonia celular')\n",
    "assinantes.tick_params(axis='y', colors='blue') # define a cor dos valores do eixo y\n",
    "conta = assinantes.twinx() # cria um segundo eixo y, que compartilha o mesmo eixo x\n",
    "conta.plot(dados.index, dados['Conta média'], 'go-') # cria um segundo gráfico de linha\n",
    "conta.set(ylabel='Conta média [US$]')\n",
    "conta.tick_params(axis='y', colors='green') # define a cor dos valores do eixo y"
   ]
  }
 ],
 "metadata": {
  "kernelspec": {
   "display_name": "Python 3.9.13 64-bit",
   "language": "python",
   "name": "python3"
  },
  "language_info": {
   "codemirror_mode": {
    "name": "ipython",
    "version": 3
   },
   "file_extension": ".py",
   "mimetype": "text/x-python",
   "name": "python",
   "nbconvert_exporter": "python",
   "pygments_lexer": "ipython3",
   "version": "3.9.13"
  },
  "orig_nbformat": 4,
  "vscode": {
   "interpreter": {
    "hash": "8e284ee3255a07ad8bf76694974743c4c81cb57e7c969474d752d949b11d721e"
   }
  }
 },
 "nbformat": 4,
 "nbformat_minor": 2
}
